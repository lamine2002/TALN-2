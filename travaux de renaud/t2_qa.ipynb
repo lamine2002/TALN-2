{
 "cells": [
  {
   "cell_type": "markdown",
   "metadata": {
    "id": "TyqwIyCh1ZxY"
   },
   "source": [
    "# **Tâche #2 - Questions-réponses avec un modèle QA extractif**\n",
    "\n",
    "Cette tâche consiste à utiliser un modèle de question-réponse extractif de type transformer afin de repérer des informations dans un texte. Vous utilisez la librairie HuggingFace pour accomplir cette tâche. On demande plus spécifiquement d’utiliser le modèle *bert-large-uncased-whole-word-masking-finetuned-squad*.\n",
    "\n",
    "La tâche a pour but précis de repérer 3 informations dans les descriptions textuelles : le lieu et la date de l’incident ainsi qu’un court passage de texte indiquant ce qui s’est passé.  Une partie importante de votre travail consiste à trouver de bonnes formulations de questions pour repérer ces informations. Le fichier *t2_qa_examples*.json, qui contient 25 exemples annotés par un humain, est disponible pour mener vos expérimentations.\n",
    "\n",
    "Les consignes pour cette tâche sont:\n",
    "-\tNom du notebook : *t2_qa.ipynb* (ce notebook)\n",
    "-\tTokenisation et plongements de mots : Ceux du modèle utilisé.\n",
    "-\tNormalisation : Aucune normalisation à faire (le tokeniseur convertit les lettres en minuscule).\n",
    "-\tConstruction du modèle : vous utilisez la version préentraînée du modèle sans modification. Aucun affinement (fine-tuning) du modèle n’est requis pour cette tâche.\n",
    "-\tÉvaluation : Du code est disponible dans le notebook pour évaluer la performance du modèle avec les métriques *exact match* et *F1*.\n",
    "-\tAnalyse : Présentez et discutez des résultats que vous obtenez pour les 3 types d’informations à repérer. Discutez également de vos choix de questions pour accomplir cette tâche et les erreurs commises par le modèle QA."
   ]
  },
  {
   "cell_type": "markdown",
   "metadata": {
    "id": "O4U3Dg2p47_R"
   },
   "source": [
    "Vous pouvez ajouter au notebook toutes les cellules dont vous avez besoin pour votre code, vos explications ou la présentation de vos résultats. Vous pouvez également ajouter des sous-sections (par ex. des sous-sections 1.1, 1.2 etc.) si cela améliore la lisibilité.\n",
    "\n",
    "Notes :\n",
    "- Évitez les bouts de code trop longs ou trop complexes. Par exemple, il est difficile de comprendre 4-5 boucles ou conditions imbriquées. Si c'est le cas, définissez des sous-fonctions pour refactoriser et simplifier votre code.\n",
    "- Expliquez sommairement votre démarche.\n",
    "- Expliquez les choix que vous faites au niveau de la programmation et des modèles (si non trivial).\n",
    "- Analysez vos résultats. Indiquez ce que vous observez, si c'est bon ou non, si c'est surprenant, etc.\n",
    "- Une analyse quantitative et qualitative d'erreurs est intéressante et permet de mieux comprendre le comportement d'un modèle."
   ]
  },
  {
   "cell_type": "markdown",
   "metadata": {
    "id": "I-EMnvr-5k-3"
   },
   "source": [
    "## 1. Le chargement des données\n",
    "\n",
    "Utilisez le fichier ***/data/t2_qa_examples.json*** pour mener vos expérimentations. "
   ]
  },
  {
   "cell_type": "code",
   "execution_count": 20,
   "metadata": {
    "executionInfo": {
     "elapsed": 5,
     "status": "ok",
     "timestamp": 1729266512755,
     "user": {
      "displayName": "Luc Lamontagne",
      "userId": "08837927508284087562"
     },
     "user_tz": 240
    },
    "id": "S_YxKHYm5k-3"
   },
   "outputs": [],
   "source": [
    "import json\n",
    "\n",
    "def load_json_data(filename):\n",
    "    with open(filename, 'r') as fp:\n",
    "        data = json.load(fp)\n",
    "    return data"
   ]
  },
  {
   "cell_type": "code",
   "execution_count": 21,
   "metadata": {
    "colab": {
     "base_uri": "https://localhost:8080/"
    },
    "executionInfo": {
     "elapsed": 1555,
     "status": "ok",
     "timestamp": 1729266514306,
     "user": {
      "displayName": "Luc Lamontagne",
      "userId": "08837927508284087562"
     },
     "user_tz": 240
    },
    "id": "Kko-88AL6K2k",
    "outputId": "2588ec14-a514-451d-9f91-e1637af8772b"
   },
   "outputs": [
    {
     "name": "stdout",
     "output_type": "stream",
     "text": [
      "Nombre total d'exemples: 25\n",
      "[{'EVENT': 'Employee #1  was struck and thrown',\n",
      "  'WHEN': 'November 10  2013',\n",
      "  'WHERE': 'railroad bridge overpass',\n",
      "  'text': ' At around 10:00 p.m. on November 10  2013  Employee #1  with '\n",
      "          'Villager  Construction Inc.  with a coworker  were using an asphalt '\n",
      "          'milling machine  (Wirtgen; Model Number: W2100) to grind out '\n",
      "          'existing asphalt from an  interstate at a railroad bridge overpass. '\n",
      "          'Employee # 1 was standing on the  ground  checking the depth of the '\n",
      "          'cut into the asphalt  using a handheld  pendant attached to the '\n",
      "          'machine. The pedant could stretch out from ten to 15  ft. This '\n",
      "          'allowed Employee #1 to walk back and forth  checking the cut. The  '\n",
      "          'operator was on the top of the milling machine  controlling the '\n",
      "          'operation of  the machine and ensuring that the milling machine and '\n",
      "          'dump truck (driven by a  second coworker  who worked for an '\n",
      "          'independent trucking service) kept a safe  working distance. A '\n",
      "          'different company  Protective Services Inc. (PSI)  was  responsible '\n",
      "          'for the traffic control of the job site and had shut down the  '\n",
      "          'inside lane of a three lane section of the interstate  so that work '\n",
      "          'could be  conducted on that lane. The entire work zone was '\n",
      "          'approximately two miles long   from start to finish. Employee #1 '\n",
      "          'and the operator of the milling machine had  completed milling four '\n",
      "          'sections (eight total passes) of the inside lane at the  bridge '\n",
      "          'overpasses and were waiting for PSI to shut down the center lane. '\n",
      "          'Dual  lane shut down of the inside and center lanes of the '\n",
      "          'interstate was completed  around 9:30 p.m.  and Employee #1 and the '\n",
      "          'milling machine operator milled two  sections (four total passes) '\n",
      "          'of the center lane. Once both sides of the  overpass were milled '\n",
      "          'out  approximately 200 ft on each side  Employee #1 and  the '\n",
      "          'operator of the milling machine moved the milling machine down the  '\n",
      "          'interstate  approximately1 000 ft  to a railroad overpass and began '\n",
      "          'setting up  to mill the center lane sections. The truck driver '\n",
      "          'backed his truck into  position and remained in the truck to move '\n",
      "          'the truck slowly forward as milling  took place. Employee #1 was '\n",
      "          'positioned between the milling machine and the  concrete median '\n",
      "          'dividers  inside the coned off work zone. The lanes of travel  were '\n",
      "          'approximately 12 ft wide  so the milling machine made two passes  '\n",
      "          'since  it can only cut seven ft wide on each section to cover the '\n",
      "          'entire lane.  Employee #1 was standing approximately three ft in '\n",
      "          'the far inside lane on the  ground between milling machine and '\n",
      "          'interior median wall inside of the approved  traffic control set '\n",
      "          'up  and approximately midway up the machine and 17 ft from  the '\n",
      "          'traffic control devices and flow of traffic. The milling machine '\n",
      "          'was  approximately nine ft wide by 50 ft long  while operating. '\n",
      "          'Employee #1 was  guarded by the machine from the flow of traffic. '\n",
      "          'Approximately five to ten  minutes into the first pass  the milling '\n",
      "          'machine operator noticed lights  hitting the reflectors on the '\n",
      "          'inside wall and turned briefly to see a vehicle  coming. The '\n",
      "          'operator thought it was the Project manager coming to check on the  '\n",
      "          'status of the project. Then  the operator realized that the '\n",
      "          'oncoming vehicle  was not equipped with a strobe  as required in '\n",
      "          'work zones. The operator turned  and yelled for Employee # 1 to run '\n",
      "          'for safety  as a Chevrolet Tahoe came down  the inside lane where '\n",
      "          'Employee #1 was standing. The driver of the Tahoe  continued '\n",
      "          'traveling in the far inside lane of the work zone  where Employee '\n",
      "          '#1  was struck and thrown some 100 ft from where he was originally '\n",
      "          'standing. The  vehicle was moving approximately 45 mph per hour. As '\n",
      "          'he was transferred to a  hospital by emergency personnel  Employee '\n",
      "          '#1 was treated for severe trauma   lacerations  fractures  and '\n",
      "          'contusions to the body and head. Employee #1 was  pronounced dead '\n",
      "          'at the hospital. The driver of the vehicle disregarded the  traffic '\n",
      "          'control set up  all warning lights on the rear of the milling '\n",
      "          'machine   and cone spacing of 100 ft. The construction work zone '\n",
      "          'was set up correctly  with all signage  cone spacing  tapering  '\n",
      "          'attenuators  and lighting; all of  the traffic control set up was '\n",
      "          'approved by MUTCD for this type of tr '},\n",
      " {'EVENT': 'the Panther which weighed over 2 000  pounds fell on his left foot '\n",
      "           'and pinned it',\n",
      "  'WHEN': 'August 27  2012',\n",
      "  'WHERE': 'Menlo Park California',\n",
      "  'text': ' On August 27  2012  Employee #1  a 19 year-old male laborer with '\n",
      "          'Stomper  Company Inc.  arrived at 2:00 .am. at a site in Menlo Park '\n",
      "          'California to  demolish the interiors of the building. They scraped '\n",
      "          'the interiors of the  building and collected debris as they '\n",
      "          'finished up the job. On August 28  2012   at approximately 10:00 '\n",
      "          'a.m  the job assignment was done and every employee was  to put '\n",
      "          'away all the rubble and gather all equipment in order to pack up '\n",
      "          'and  leave the site. When the job assignment was finished  it is '\n",
      "          'typical for all  employees to gather everything and put it away '\n",
      "          'into the garbage bin or in  their trailers and bins. At the time  '\n",
      "          'four coworkers were outside in the  parking lot working near the '\n",
      "          'Number 5 700 Panther. Two coworkers were going to  load the number '\n",
      "          '5 700 Panther and Employee #1 stated that he was going to load  the '\n",
      "          'number 5 700 Panther on a trailer when their trailer returns from '\n",
      "          'the trip  delivering their first load. This worker got on a Gradall '\n",
      "          'machine to lift a  box bin and move it towards the number 5 700 '\n",
      "          'Panther. The coworkers stated  that Employee #1  not the employee '\n",
      "          'designated to drive the Panther  got on  this vehicle and started '\n",
      "          'driving it. Employee #1 attempted to load a number  5 700 Panther '\n",
      "          'on to a bin. This bin had a rubber lip with a four to five inch  '\n",
      "          \"incline ramp on its lip's edge. Employee #1 drove the Panther \"\n",
      "          'straight  backwards on the bin and did not go through this four to '\n",
      "          'five inch ramp bump  on to the bin. Right after this unsuccessful '\n",
      "          'attempt  Employee #1 drove it  backwards a second time except this '\n",
      "          'time slightly slanted to his left side.  The left wheel touched the '\n",
      "          'ramp first. On this second attempt  the number  5 700 Panther fell '\n",
      "          'and flipped over. Employee #1 attempted to jump out of this  '\n",
      "          'vehicle but was unable to get away as the Panther which weighed '\n",
      "          'over 2 000  pounds fell on his left foot and pinned it. A coworker '\n",
      "          'got the Gradall  machinery in order to remove the Panther that was '\n",
      "          \"on top of Employee #1's left  foot. Employee #1 suffered a serious \"\n",
      "          'fracture injury to his left leg and was  hospitalized over '\n",
      "          'twenty-four hours. Employee #1 also stated that he is well  trained '\n",
      "          'in driving other construction vehicle equipment by another '\n",
      "          'foreman.     '},\n",
      " {'EVENT': 'Employee #1 had a seizure',\n",
      "  'WHEN': 'September 19  2012',\n",
      "  'WHERE': 'a bathroom  facility',\n",
      "  'text': ' On September 19  2012  Employee #1 had a seizure while utilizing a '\n",
      "          'bathroom  facility. The employee has past history of seizures. A '\n",
      "          'coworker found Employee  #1 unresponsive  and called 911 then '\n",
      "          'performed CPR  on the employee until  paramedics arrived. Employee '\n",
      "          '#1 was transported to St. James hospital in  Chicago Heights  where '\n",
      "          'he was pronounced dead.                                  '},\n",
      " {'EVENT': 'He was struck by  the cement mixer',\n",
      "  'WHEN': 'November17  2010',\n",
      "  'WHERE': 'mixing cement/concrete',\n",
      "  'text': '   At approximately 9:30 a.m. on November17  2010  Employee #1 of '\n",
      "          'Midwest  Masonry  Inc.  was responsible for using the cement mixer. '\n",
      "          'He was struck by  the cement mixer that tipped over in the process '\n",
      "          'of mixing cement/concrete.  Employee #1 suffered bruises to his '\n",
      "          'upper right thigh and right hip. There was  no visible damage to '\n",
      "          'the cement mixer. In addition  there were no employees to  observe '\n",
      "          'how the cement mixer fell on the '\n",
      "          'employee.                              '},\n",
      " {'EVENT': 'struck Employee #1',\n",
      "  'WHEN': 'September 26  2013',\n",
      "  'WHERE': 'one mile away',\n",
      "  'text': ' On September 26  2013  Employee #1  a \"flagger\" with Iowa Erosion '\n",
      "          'Control   Inc.  was turning a vertical sign from STOP to SLOW  '\n",
      "          'based upon the location  of a pilot car running between the '\n",
      "          'worker\\'s location and a second coworker  \"flagger \" located '\n",
      "          'approximately one mile away. A semi-truck came up over a  hill to '\n",
      "          'the south of Employee #1. While traveling  its brakes locked up   '\n",
      "          'leaving residue on the roadway. Then  the semi-truck swerved to '\n",
      "          \"miss a car at  Employee #1's sign area and struck Employee #1. \"\n",
      "          'Employee #1 was then dragged  and/or rolled approximately 40 ft to '\n",
      "          'the north  where his body came to rest.  The semi-truck veered into '\n",
      "          'the ditch area at the north edge of the street and  then proceeded '\n",
      "          'north. The Initial investigation revealed that warning signs  were '\n",
      "          'posted along the highway  cones and other markings were present  '\n",
      "          'and  Employee #1was wearing a high visibility vest/clothing. '\n",
      "          'Employee #1 was killed  in the '\n",
      "          'incident.                                                                '}]\n"
     ]
    }
   ],
   "source": [
    "# Charger et afficher quelques exemples\n",
    "from pprint import pprint\n",
    "\n",
    "data = load_json_data('../data/t2_qa_examples.json')\n",
    "print(\"Nombre total d'exemples:\", len(data))\n",
    "\n",
    "# utilisation de pprint pour afficher 5 exemplses\n",
    "\n",
    "\n",
    "pprint(data[:5])"
   ]
  },
  {
   "cell_type": "code",
   "execution_count": null,
   "metadata": {
    "executionInfo": {
     "elapsed": 6,
     "status": "ok",
     "timestamp": 1729266514307,
     "user": {
      "displayName": "Luc Lamontagne",
      "userId": "08837927508284087562"
     },
     "user_tz": 240
    },
    "id": "jE2CSpS25k-3"
   },
   "outputs": [],
   "source": [
    "\n"
   ]
  },
  {
   "cell_type": "markdown",
   "metadata": {
    "executionInfo": {
     "elapsed": 6,
     "status": "ok",
     "timestamp": 1729266514307,
     "user": {
      "displayName": "Luc Lamontagne",
      "userId": "08837927508284087562"
     },
     "user_tz": 240
    },
    "id": "I_5xjRKS5k-4"
   },
   "source": [
    "## 2. Vos questions \n",
    "\n",
    "Vous pouvez mettre plusieurs options de questions dans le notebook. Il est important de présenter, au minimum, les résultats pour le meilleur jeu de questions. Vous pourrez également mettre des informations à ce propos dans la section d'analyse. "
   ]
  },
  {
   "cell_type": "code",
   "execution_count": 22,
   "metadata": {
    "colab": {
     "base_uri": "https://localhost:8080/"
    },
    "executionInfo": {
     "elapsed": 6,
     "status": "ok",
     "timestamp": 1729266514307,
     "user": {
      "displayName": "Luc Lamontagne",
      "userId": "08837927508284087562"
     },
     "user_tz": 240
    },
    "id": "s9DaL3NB5k-4",
    "outputId": "db80ec67-8b3c-4a49-ba63-c330b8eec2d8"
   },
   "outputs": [],
   "source": [
    "# Exemple de questions pour les 3 types d'informations\n",
    "\n",
    "questions = {\n",
    "    \"WHEN\": [\n",
    "        \"What is the exact date and time when the incident occurred?\",\n",
    "    ],\n",
    "    \"WHERE\": [  \n",
    "        \"Where did the event occur ? \",\n",
    "    ],\n",
    "    \"EVENT\": [\n",
    "        \"What unfolded during the incident?\",\n",
    "    ],\n",
    "}\n",
    "\n",
    "\n"
   ]
  },
  {
   "cell_type": "code",
   "execution_count": null,
   "metadata": {
    "colab": {
     "base_uri": "https://localhost:8080/"
    },
    "executionInfo": {
     "elapsed": 4,
     "status": "ok",
     "timestamp": 1729266514307,
     "user": {
      "displayName": "Luc Lamontagne",
      "userId": "08837927508284087562"
     },
     "user_tz": 240
    },
    "id": "HyOOB_SK5k-4",
    "outputId": "06923dfb-5ef6-4173-cb7c-484f018acf9c"
   },
   "outputs": [],
   "source": [
    "\n"
   ]
  },
  {
   "cell_type": "markdown",
   "metadata": {
    "id": "OiwRAI207HMw"
   },
   "source": [
    "## 3. Le modèle de question-réponse extractif"
   ]
  },
  {
   "cell_type": "code",
   "execution_count": null,
   "metadata": {
    "executionInfo": {
     "elapsed": 25144,
     "status": "ok",
     "timestamp": 1729266539448,
     "user": {
      "displayName": "Luc Lamontagne",
      "userId": "08837927508284087562"
     },
     "user_tz": 240
    },
    "id": "UYNo8tAt5k-5"
   },
   "outputs": [
    {
     "name": "stderr",
     "output_type": "stream",
     "text": [
      "Some weights of the model checkpoint at bert-large-uncased-whole-word-masking-finetuned-squad were not used when initializing BertForQuestionAnswering: ['bert.pooler.dense.bias', 'bert.pooler.dense.weight']\n",
      "- This IS expected if you are initializing BertForQuestionAnswering from the checkpoint of a model trained on another task or with another architecture (e.g. initializing a BertForSequenceClassification model from a BertForPreTraining model).\n",
      "- This IS NOT expected if you are initializing BertForQuestionAnswering from the checkpoint of a model that you expect to be exactly identical (initializing a BertForSequenceClassification model from a BertForSequenceClassification model).\n"
     ]
    }
   ],
   "source": [
    "from transformers import AutoTokenizer, BertForQuestionAnswering\n",
    "import torch\n",
    "\n",
    "# Charger le tokenizer et le modèle\n",
    "tokenizer = AutoTokenizer.from_pretrained(\"bert-large-uncased-whole-word-masking-finetuned-squad\")\n",
    "model = BertForQuestionAnswering.from_pretrained(\"bert-large-uncased-whole-word-masking-finetuned-squad\")\n",
    "\n"
   ]
  },
  {
   "cell_type": "code",
   "execution_count": 24,
   "metadata": {
    "colab": {
     "base_uri": "https://localhost:8080/"
    },
    "executionInfo": {
     "elapsed": 2347,
     "status": "ok",
     "timestamp": 1729266541783,
     "user": {
      "displayName": "Luc Lamontagne",
      "userId": "08837927508284087562"
     },
     "user_tz": 240
    },
    "id": "dqImkmfiH7JX",
    "outputId": "0191a2dd-10b2-4203-dd23-d7d215938371",
    "scrolled": true
   },
   "outputs": [],
   "source": [
    "# Tronquer le texte à 512 tokens\n",
    "\n",
    "def answer_question(question, context):\n",
    "    # Tronquer le contexte si nécessaire\n",
    "    max_length = 512\n",
    "    if len(context) > max_length:\n",
    "        context = context[:max_length]\n",
    "\n",
    "    inputs = tokenizer(question, context, return_tensors='pt', truncation=\"only_second\", padding=\"max_length\", max_length=512, stride=128)\n",
    "    outputs = model(**inputs)\n",
    "    answer_start = torch.argmax(outputs.start_logits)\n",
    "    answer_end = torch.argmax(outputs.end_logits) + 1  # +1 pour inclure le dernier token\n",
    "    answer = tokenizer.convert_tokens_to_string(tokenizer.convert_ids_to_tokens(inputs['input_ids'][0][answer_start:answer_end]))\n",
    "    return answer\n"
   ]
  },
  {
   "cell_type": "code",
   "execution_count": null,
   "metadata": {},
   "outputs": [],
   "source": []
  },
  {
   "cell_type": "code",
   "execution_count": 25,
   "metadata": {},
   "outputs": [
    {
     "name": "stdout",
     "output_type": "stream",
     "text": [
      "Contexte:  At around 10:00 p.m. on November 10  2013  Employee #1  with Villager  Construction Inc.  with a coworker  were using an asphalt milling machine  (Wirtgen; Model Number: W2100) to grind out existing asphalt from an  interstate at a railroad bridge overpass. Employee # 1 was standing on the  ground  checking the depth of the cut into the asphalt  using a handheld  pendant attached to the machine. The pedant could stretch out from ten to 15  ft. This allowed Employee #1 to walk back and forth  checking the cut. The  operator was on the top of the milling machine  controlling the operation of  the machine and ensuring that the milling machine and dump truck (driven by a  second coworker  who worked for an independent trucking service) kept a safe  working distance. A different company  Protective Services Inc. (PSI)  was  responsible for the traffic control of the job site and had shut down the  inside lane of a three lane section of the interstate  so that work could be  conducted on that lane. The entire work zone was approximately two miles long   from start to finish. Employee #1 and the operator of the milling machine had  completed milling four sections (eight total passes) of the inside lane at the  bridge overpasses and were waiting for PSI to shut down the center lane. Dual  lane shut down of the inside and center lanes of the interstate was completed  around 9:30 p.m.  and Employee #1 and the milling machine operator milled two  sections (four total passes) of the center lane. Once both sides of the  overpass were milled out  approximately 200 ft on each side  Employee #1 and  the operator of the milling machine moved the milling machine down the  interstate  approximately1 000 ft  to a railroad overpass and began setting up  to mill the center lane sections. The truck driver backed his truck into  position and remained in the truck to move the truck slowly forward as milling  took place. Employee #1 was positioned between the milling machine and the  concrete median dividers  inside the coned off work zone. The lanes of travel  were approximately 12 ft wide  so the milling machine made two passes  since  it can only cut seven ft wide on each section to cover the entire lane.  Employee #1 was standing approximately three ft in the far inside lane on the  ground between milling machine and interior median wall inside of the approved  traffic control set up  and approximately midway up the machine and 17 ft from  the traffic control devices and flow of traffic. The milling machine was  approximately nine ft wide by 50 ft long  while operating. Employee #1 was  guarded by the machine from the flow of traffic. Approximately five to ten  minutes into the first pass  the milling machine operator noticed lights  hitting the reflectors on the inside wall and turned briefly to see a vehicle  coming. The operator thought it was the Project manager coming to check on the  status of the project. Then  the operator realized that the oncoming vehicle  was not equipped with a strobe  as required in work zones. The operator turned  and yelled for Employee # 1 to run for safety  as a Chevrolet Tahoe came down  the inside lane where Employee #1 was standing. The driver of the Tahoe  continued traveling in the far inside lane of the work zone  where Employee #1  was struck and thrown some 100 ft from where he was originally standing. The  vehicle was moving approximately 45 mph per hour. As he was transferred to a  hospital by emergency personnel  Employee #1 was treated for severe trauma   lacerations  fractures  and contusions to the body and head. Employee #1 was  pronounced dead at the hospital. The driver of the vehicle disregarded the  traffic control set up  all warning lights on the rear of the milling machine   and cone spacing of 100 ft. The construction work zone was set up correctly  with all signage  cone spacing  tapering  attenuators  and lighting; all of  the traffic control set up was approved by MUTCD for this type of tr \n",
      "Event: standing on the ground checking the depth of the cut into the asphalt\n",
      "Location: railroad bridge overpass\n",
      "Date: november 10 2013\n"
     ]
    }
   ],
   "source": [
    "# Questions pour extraire des informations\n",
    "context = data[0]['text']\n",
    "\n",
    "event = answer_question(\"What happened to Employee # 1?\", context)\n",
    "location = answer_question(\"Where did the incident take place?\", context)\n",
    "date = answer_question(\"When did the incident occur?\", context)\n",
    "\n",
    "print(\"Contexte:\", context)\n",
    "print(\"Event:\", event)\n",
    "print(\"Location:\", location)\n",
    "print(\"Date:\", date)\n"
   ]
  },
  {
   "cell_type": "code",
   "execution_count": null,
   "metadata": {},
   "outputs": [],
   "source": []
  },
  {
   "cell_type": "code",
   "execution_count": null,
   "metadata": {},
   "outputs": [],
   "source": []
  },
  {
   "cell_type": "markdown",
   "metadata": {
    "id": "RjAf-o8j5k-5"
   },
   "source": [
    "## 4. Des fonctions utilitaires pour l'évaluation"
   ]
  },
  {
   "cell_type": "code",
   "execution_count": 26,
   "metadata": {
    "executionInfo": {
     "elapsed": 7,
     "status": "ok",
     "timestamp": 1729266541783,
     "user": {
      "displayName": "Luc Lamontagne",
      "userId": "08837927508284087562"
     },
     "user_tz": 240
    },
    "id": "SyJV4E9Q5k-5"
   },
   "outputs": [],
   "source": [
    "import string\n",
    "import re\n",
    "from collections import Counter\n",
    "\n",
    "def remove_articles(text):\n",
    "    return re.sub(r'\\b(a|an|the)\\b', ' ', text)\n",
    "\n",
    "def white_space_fix(text):\n",
    "    return ' '.join(text.split())\n",
    "\n",
    "def remove_punc(text):\n",
    "    exclude = set(string.punctuation)\n",
    "    return ''.join(ch for ch in text if ch not in exclude)\n",
    "\n",
    "def lower(text):\n",
    "    return text.lower()\n",
    "\n",
    "def normalize_answer(s):\n",
    "    \"\"\"Mettre en minuscule et retirer la ponctuation, des déterminants and les espaces.\"\"\"\n",
    "    return white_space_fix(remove_articles(remove_punc(lower(s))))"
   ]
  },
  {
   "cell_type": "code",
   "execution_count": 27,
   "metadata": {
    "executionInfo": {
     "elapsed": 6,
     "status": "ok",
     "timestamp": 1729266541783,
     "user": {
      "displayName": "Luc Lamontagne",
      "userId": "08837927508284087562"
     },
     "user_tz": 240
    },
    "id": "tISVAS_d5k-6"
   },
   "outputs": [],
   "source": [
    "def evaluate_f1(ground_truth, prediction):\n",
    "    \"\"\"Normalise les 2 textes, trouve ce qu'il y a en commun et estime précision, rappel et F1.\"\"\"\n",
    "    prediction_tokens = normalize_answer(prediction).split()\n",
    "    ground_truth_tokens = normalize_answer(ground_truth).split()\n",
    "    common = Counter(prediction_tokens) & Counter(ground_truth_tokens)\n",
    "    num_same = sum(common.values())\n",
    "    if len(ground_truth_tokens) == 0 or len(prediction_tokens) == 0:\n",
    "        return int(ground_truth_tokens == prediction_tokens)\n",
    "    if num_same == 0:\n",
    "        return 0\n",
    "    precision = 1.0 * num_same / len(prediction_tokens)\n",
    "    recall = 1.0 * num_same / len(ground_truth_tokens)\n",
    "    f1 = (2 * precision * recall) / (precision + recall)\n",
    "    return f1\n",
    "\n",
    "def evaluate_exact_match(ground_truth, prediction):\n",
    "    \"\"\"Vérifie si les 2 textes sont quasi-identiques.\"\"\"\n",
    "    return (normalize_answer(prediction) == normalize_answer(ground_truth))"
   ]
  },
  {
   "cell_type": "markdown",
   "metadata": {
    "id": "MmvlClMo5k-6"
   },
   "source": [
    "## 5. Évaluation du modèle et analyse"
   ]
  },
  {
   "cell_type": "code",
   "execution_count": 28,
   "metadata": {
    "colab": {
     "base_uri": "https://localhost:8080/"
    },
    "executionInfo": {
     "elapsed": 670326,
     "status": "ok",
     "timestamp": 1729267212104,
     "user": {
      "displayName": "Luc Lamontagne",
      "userId": "08837927508284087562"
     },
     "user_tz": 240
    },
    "id": "pfQ0vhFQICso",
    "outputId": "2834751b-6057-4ec3-866f-26e146167e65"
   },
   "outputs": [
    {
     "name": "stdout",
     "output_type": "stream",
     "text": [
      "WHEN - F1: 1.00, Exact Match: 1.00\n",
      "WHERE - F1: 1.00, Exact Match: 1.00\n",
      "EVENT - F1: 0.33, Exact Match: 0.00\n",
      "WHEN - F1: 1.00, Exact Match: 1.00\n",
      "WHERE - F1: 1.00, Exact Match: 1.00\n",
      "EVENT - F1: 0.09, Exact Match: 0.00\n",
      "WHEN - F1: 1.00, Exact Match: 1.00\n",
      "WHERE - F1: 1.00, Exact Match: 1.00\n",
      "EVENT - F1: 0.20, Exact Match: 0.00\n",
      "WHEN - F1: 1.00, Exact Match: 1.00\n",
      "WHERE - F1: 0.29, Exact Match: 0.00\n",
      "EVENT - F1: 0.00, Exact Match: 0.00\n",
      "WHEN - F1: 1.00, Exact Match: 1.00\n",
      "WHERE - F1: 1.00, Exact Match: 1.00\n",
      "EVENT - F1: 0.32, Exact Match: 0.00\n",
      "WHEN - F1: 1.00, Exact Match: 1.00\n",
      "WHERE - F1: 1.00, Exact Match: 1.00\n",
      "EVENT - F1: 0.47, Exact Match: 0.00\n",
      "WHEN - F1: 1.00, Exact Match: 1.00\n",
      "WHERE - F1: 1.00, Exact Match: 1.00\n",
      "EVENT - F1: 0.88, Exact Match: 0.00\n",
      "WHEN - F1: 1.00, Exact Match: 1.00\n",
      "WHERE - F1: 1.00, Exact Match: 1.00\n",
      "EVENT - F1: 0.00, Exact Match: 0.00\n",
      "WHEN - F1: 1.00, Exact Match: 1.00\n",
      "WHERE - F1: 0.80, Exact Match: 0.00\n",
      "EVENT - F1: 0.00, Exact Match: 0.00\n",
      "WHEN - F1: 1.00, Exact Match: 1.00\n",
      "WHERE - F1: 1.00, Exact Match: 1.00\n",
      "EVENT - F1: 0.59, Exact Match: 0.00\n",
      "WHEN - F1: 1.00, Exact Match: 1.00\n",
      "WHERE - F1: 0.00, Exact Match: 0.00\n",
      "EVENT - F1: 0.00, Exact Match: 0.00\n",
      "WHEN - F1: 1.00, Exact Match: 1.00\n",
      "WHERE - F1: 1.00, Exact Match: 1.00\n",
      "EVENT - F1: 0.37, Exact Match: 0.00\n",
      "WHEN - F1: 1.00, Exact Match: 1.00\n",
      "WHERE - F1: 0.31, Exact Match: 0.00\n",
      "EVENT - F1: 0.10, Exact Match: 0.00\n",
      "WHEN - F1: 1.00, Exact Match: 1.00\n",
      "WHERE - F1: 1.00, Exact Match: 1.00\n",
      "EVENT - F1: 0.00, Exact Match: 0.00\n",
      "WHEN - F1: 1.00, Exact Match: 1.00\n",
      "WHERE - F1: 0.89, Exact Match: 0.00\n",
      "EVENT - F1: 1.00, Exact Match: 1.00\n",
      "WHEN - F1: 1.00, Exact Match: 1.00\n",
      "WHERE - F1: 0.00, Exact Match: 0.00\n",
      "EVENT - F1: 0.80, Exact Match: 0.00\n",
      "WHEN - F1: 1.00, Exact Match: 1.00\n",
      "WHERE - F1: 0.92, Exact Match: 0.00\n",
      "EVENT - F1: 1.00, Exact Match: 1.00\n",
      "WHEN - F1: 1.00, Exact Match: 1.00\n",
      "WHERE - F1: 1.00, Exact Match: 1.00\n",
      "EVENT - F1: 0.59, Exact Match: 0.00\n",
      "WHEN - F1: 1.00, Exact Match: 1.00\n",
      "WHERE - F1: 0.00, Exact Match: 0.00\n",
      "EVENT - F1: 1.00, Exact Match: 1.00\n",
      "WHEN - F1: 1.00, Exact Match: 1.00\n",
      "WHERE - F1: 0.80, Exact Match: 0.00\n",
      "EVENT - F1: 0.13, Exact Match: 0.00\n",
      "WHEN - F1: 1.00, Exact Match: 1.00\n",
      "WHERE - F1: 1.00, Exact Match: 1.00\n",
      "EVENT - F1: 0.00, Exact Match: 0.00\n",
      "WHEN - F1: 1.00, Exact Match: 1.00\n",
      "WHERE - F1: 1.00, Exact Match: 1.00\n",
      "EVENT - F1: 0.22, Exact Match: 0.00\n",
      "WHEN - F1: 1.00, Exact Match: 1.00\n",
      "WHERE - F1: 0.32, Exact Match: 0.00\n",
      "EVENT - F1: 0.60, Exact Match: 0.00\n",
      "WHEN - F1: 1.00, Exact Match: 1.00\n",
      "WHERE - F1: 1.00, Exact Match: 1.00\n",
      "EVENT - F1: 1.00, Exact Match: 1.00\n",
      "WHEN - F1: 0.00, Exact Match: 0.00\n",
      "WHERE - F1: 1.00, Exact Match: 1.00\n",
      "EVENT - F1: 1.00, Exact Match: 1.00\n"
     ]
    }
   ],
   "source": [
    "# Définir un seuil pour les scores faibles (par exemple, 0.5)\n",
    "low_score_threshold = 0.5\n",
    "\n",
    "# Initialiser une liste pour stocker les exemples ayant des scores faibles\n",
    "low_score_examples = {\"WHEN\": [], \"EVENT\": [], \"WHERE\": []}\n",
    "\n",
    "# Initialiser les résultats d'évaluation\n",
    "evaluation_results = {\n",
    "    \"WHEN\": [],\n",
    "    \"WHERE\": [],\n",
    "    \"EVENT\": []\n",
    "}\n",
    "\n",
    "# Exemple d'évaluation\n",
    "for example in data:\n",
    "    # Vérification du type de texte\n",
    "    text = example[\"text\"]  # Doit être une chaîne\n",
    "    if not isinstance(text, str):\n",
    "        print(f\"Erreur : Le texte doit être une chaîne. Type trouvé : {type(text)}\")\n",
    "        continue  # Passer à l'exemple suivant si le type est incorrect\n",
    "\n",
    "    ground_truths = {\n",
    "        \"WHEN\": example[\"WHEN\"],  # Réponse correcte pour WHEN\n",
    "        \"WHERE\": example[\"WHERE\"],  # Réponse correcte pour WHERE\n",
    "        \"EVENT\": example[\"EVENT\"]   # Réponse correcte pour EVENT\n",
    "    }\n",
    "    \n",
    "    # Appel à la fonction de prédiction\n",
    "    predictions = {}\n",
    "    for key in questions.keys():\n",
    "        # Nous utilisons la question correspondante pour chaque catégorie\n",
    "        question = questions[key][0]  # Prenons la première question pour simplifier\n",
    "        predictions[key] = answer_question(question, text)  # Assurez-vous que le texte est bien une chaîne\n",
    "    \n",
    "    # Évaluation pour chaque catégorie\n",
    "    for key in [\"WHEN\", \"WHERE\", \"EVENT\"]:\n",
    "        f1 = evaluate_f1(ground_truths[key], predictions[key])  # Calcul du score F1\n",
    "        em = evaluate_exact_match(ground_truths[key], predictions[key])  # Calcul de l'Exact Match\n",
    "        print(f\"{key} - F1: {f1:.2f}, Exact Match: {em:.2f}\")\n",
    "\n",
    "        # Stocker les résultats dans evaluation_results\n",
    "        evaluation_results[key].append(f1)  # Stocker le score F1\n",
    "\n",
    "        if f1 < low_score_threshold:\n",
    "            # Ajouter l'exemple et les informations de comparaison à low_score_examples\n",
    "            low_score_examples[key].append({\n",
    "                \"text\": text,\n",
    "                \"expected_answer\": ground_truths[key],\n",
    "                \"predicted_answer\": predictions[key],\n",
    "                \"f1_score\": f1\n",
    "            })"
   ]
  },
  {
   "cell_type": "code",
   "execution_count": 29,
   "metadata": {
    "colab": {
     "base_uri": "https://localhost:8080/",
     "height": 1000
    },
    "executionInfo": {
     "elapsed": 1894,
     "status": "ok",
     "timestamp": 1729267213976,
     "user": {
      "displayName": "Luc Lamontagne",
      "userId": "08837927508284087562"
     },
     "user_tz": 240
    },
    "id": "W3TI0aLN3vIJ",
    "outputId": "45e76508-e48f-4dd8-f90c-85cd2f728a74"
   },
   "outputs": [
    {
     "name": "stdout",
     "output_type": "stream",
     "text": [
      "WHEN - Success: 96.00%, Failure: 4.00%\n",
      "WHERE - Success: 76.00%, Failure: 24.00%\n",
      "EVENT - Success: 40.00%, Failure: 60.00%\n"
     ]
    }
   ],
   "source": [
    "# Initialiser les compteurs\n",
    "success_count = {}\n",
    "failure_count = {}\n",
    "total_count = {}\n",
    "\n",
    "# Calculer le nombre de réussites et d'échecs pour chaque catégorie\n",
    "for category, scores in evaluation_results.items():\n",
    "    total_count[category] = len(scores)  # Nombre total d'exemples\n",
    "    success_count[category] = sum(1 for score in scores if score > 0.5)  # Considérer comme succès si score > 0.5\n",
    "    failure_count[category] = total_count[category] - success_count[category]  # Échecs\n",
    "\n",
    "# Calculer les pourcentages\n",
    "success_percentage = {category: (count / total_count[category]) * 100 for category, count in success_count.items()}\n",
    "failure_percentage = {category: (count / total_count[category]) * 100 for category, count in failure_count.items()}\n",
    "\n",
    "# Affichage des résultats\n",
    "for category in total_count.keys():\n",
    "    print(f\"{category} - Success: {success_percentage[category]:.2f}%, Failure: {failure_percentage[category]:.2f}%\")\n"
   ]
  },
  {
   "cell_type": "code",
   "execution_count": 30,
   "metadata": {
    "colab": {
     "base_uri": "https://localhost:8080/",
     "height": 494
    },
    "executionInfo": {
     "elapsed": 363,
     "status": "ok",
     "timestamp": 1729267214333,
     "user": {
      "displayName": "Luc Lamontagne",
      "userId": "08837927508284087562"
     },
     "user_tz": 240
    },
    "id": "ztVrC5C63wW2",
    "outputId": "243041a7-6a95-4643-94fa-2587ea3f7ac3"
   },
   "outputs": [
    {
     "name": "stdout",
     "output_type": "stream",
     "text": [
      "\n",
      "--- WHEN - Exemples avec scores faibles ---\n",
      "Exemple #1\n",
      "Texte :  Employee #1  a diver  became caught in a coffer dam and drowned.                \n",
      "Réponse attendue : \n",
      "Réponse générée : drowned\n",
      "Score F1 : 0.00\n",
      "\n",
      "\n",
      "--- EVENT - Exemples avec scores faibles ---\n",
      "Exemple #1\n",
      "Texte :  At around 10:00 p.m. on November 10  2013  Employee #1  with Villager  Construction Inc.  with a coworker  were using an asphalt milling machine  (Wirtgen; Model Number: W2100) to grind out existing asphalt from an  interstate at a railroad bridge overpass. Employee # 1 was standing on the  ground  checking the depth of the cut into the asphalt  using a handheld  pendant attached to the machine. The pedant could stretch out from ten to 15  ft. This allowed Employee #1 to walk back and forth  checking the cut. The  operator was on the top of the milling machine  controlling the operation of  the machine and ensuring that the milling machine and dump truck (driven by a  second coworker  who worked for an independent trucking service) kept a safe  working distance. A different company  Protective Services Inc. (PSI)  was  responsible for the traffic control of the job site and had shut down the  inside lane of a three lane section of the interstate  so that work could be  conducted on that lane. The entire work zone was approximately two miles long   from start to finish. Employee #1 and the operator of the milling machine had  completed milling four sections (eight total passes) of the inside lane at the  bridge overpasses and were waiting for PSI to shut down the center lane. Dual  lane shut down of the inside and center lanes of the interstate was completed  around 9:30 p.m.  and Employee #1 and the milling machine operator milled two  sections (four total passes) of the center lane. Once both sides of the  overpass were milled out  approximately 200 ft on each side  Employee #1 and  the operator of the milling machine moved the milling machine down the  interstate  approximately1 000 ft  to a railroad overpass and began setting up  to mill the center lane sections. The truck driver backed his truck into  position and remained in the truck to move the truck slowly forward as milling  took place. Employee #1 was positioned between the milling machine and the  concrete median dividers  inside the coned off work zone. The lanes of travel  were approximately 12 ft wide  so the milling machine made two passes  since  it can only cut seven ft wide on each section to cover the entire lane.  Employee #1 was standing approximately three ft in the far inside lane on the  ground between milling machine and interior median wall inside of the approved  traffic control set up  and approximately midway up the machine and 17 ft from  the traffic control devices and flow of traffic. The milling machine was  approximately nine ft wide by 50 ft long  while operating. Employee #1 was  guarded by the machine from the flow of traffic. Approximately five to ten  minutes into the first pass  the milling machine operator noticed lights  hitting the reflectors on the inside wall and turned briefly to see a vehicle  coming. The operator thought it was the Project manager coming to check on the  status of the project. Then  the operator realized that the oncoming vehicle  was not equipped with a strobe  as required in work zones. The operator turned  and yelled for Employee # 1 to run for safety  as a Chevrolet Tahoe came down  the inside lane where Employee #1 was standing. The driver of the Tahoe  continued traveling in the far inside lane of the work zone  where Employee #1  was struck and thrown some 100 ft from where he was originally standing. The  vehicle was moving approximately 45 mph per hour. As he was transferred to a  hospital by emergency personnel  Employee #1 was treated for severe trauma   lacerations  fractures  and contusions to the body and head. Employee #1 was  pronounced dead at the hospital. The driver of the vehicle disregarded the  traffic control set up  all warning lights on the rear of the milling machine   and cone spacing of 100 ft. The construction work zone was set up correctly  with all signage  cone spacing  tapering  attenuators  and lighting; all of  the traffic control set up was approved by MUTCD for this type of tr \n",
      "Réponse attendue : Employee #1  was struck and thrown\n",
      "Réponse générée : employee # 1 was standing on the ground checking the depth of the cut into the asphalt\n",
      "Score F1 : 0.33\n",
      "\n",
      "Exemple #2\n",
      "Texte :  On August 27  2012  Employee #1  a 19 year-old male laborer with Stomper  Company Inc.  arrived at 2:00 .am. at a site in Menlo Park California to  demolish the interiors of the building. They scraped the interiors of the  building and collected debris as they finished up the job. On August 28  2012   at approximately 10:00 a.m  the job assignment was done and every employee was  to put away all the rubble and gather all equipment in order to pack up and  leave the site. When the job assignment was finished  it is typical for all  employees to gather everything and put it away into the garbage bin or in  their trailers and bins. At the time  four coworkers were outside in the  parking lot working near the Number 5 700 Panther. Two coworkers were going to  load the number 5 700 Panther and Employee #1 stated that he was going to load  the number 5 700 Panther on a trailer when their trailer returns from the trip  delivering their first load. This worker got on a Gradall machine to lift a  box bin and move it towards the number 5 700 Panther. The coworkers stated  that Employee #1  not the employee designated to drive the Panther  got on  this vehicle and started driving it. Employee #1 attempted to load a number  5 700 Panther on to a bin. This bin had a rubber lip with a four to five inch  incline ramp on its lip's edge. Employee #1 drove the Panther straight  backwards on the bin and did not go through this four to five inch ramp bump  on to the bin. Right after this unsuccessful attempt  Employee #1 drove it  backwards a second time except this time slightly slanted to his left side.  The left wheel touched the ramp first. On this second attempt  the number  5 700 Panther fell and flipped over. Employee #1 attempted to jump out of this  vehicle but was unable to get away as the Panther which weighed over 2 000  pounds fell on his left foot and pinned it. A coworker got the Gradall  machinery in order to remove the Panther that was on top of Employee #1's left  foot. Employee #1 suffered a serious fracture injury to his left leg and was  hospitalized over twenty-four hours. Employee #1 also stated that he is well  trained in driving other construction vehicle equipment by another foreman.     \n",
      "Réponse attendue : the Panther which weighed over 2 000  pounds fell on his left foot and pinned it\n",
      "Réponse générée : they scraped the interiors of the building and collected debris\n",
      "Score F1 : 0.09\n",
      "\n",
      "Exemple #3\n",
      "Texte :  On September 19  2012  Employee #1 had a seizure while utilizing a bathroom  facility. The employee has past history of seizures. A coworker found Employee  #1 unresponsive  and called 911 then performed CPR  on the employee until  paramedics arrived. Employee #1 was transported to St. James hospital in  Chicago Heights  where he was pronounced dead.                                  \n",
      "Réponse attendue : Employee #1 had a seizure\n",
      "Réponse générée : a coworker found employee # 1 unresponsive and called 911 then performed cpr on the employee until paramedics arrived\n",
      "Score F1 : 0.20\n",
      "\n",
      "Exemple #4\n",
      "Texte :    At approximately 9:30 a.m. on November17  2010  Employee #1 of Midwest  Masonry  Inc.  was responsible for using the cement mixer. He was struck by  the cement mixer that tipped over in the process of mixing cement/concrete.  Employee #1 suffered bruises to his upper right thigh and right hip. There was  no visible damage to the cement mixer. In addition  there were no employees to  observe how the cement mixer fell on the employee.                              \n",
      "Réponse attendue : He was struck by  the cement mixer\n",
      "Réponse générée : \n",
      "Score F1 : 0.00\n",
      "\n",
      "Exemple #5\n",
      "Texte :  On September 26  2013  Employee #1  a \"flagger\" with Iowa Erosion Control   Inc.  was turning a vertical sign from STOP to SLOW  based upon the location  of a pilot car running between the worker's location and a second coworker  \"flagger \" located approximately one mile away. A semi-truck came up over a  hill to the south of Employee #1. While traveling  its brakes locked up   leaving residue on the roadway. Then  the semi-truck swerved to miss a car at  Employee #1's sign area and struck Employee #1. Employee #1 was then dragged  and/or rolled approximately 40 ft to the north  where his body came to rest.  The semi-truck veered into the ditch area at the north edge of the street and  then proceeded north. The Initial investigation revealed that warning signs  were posted along the highway  cones and other markings were present  and  Employee #1was wearing a high visibility vest/clothing. Employee #1 was killed  in the incident.                                                                \n",
      "Réponse attendue : struck Employee #1\n",
      "Réponse générée : the semi - truck swerved to miss a car at employee # 1 ' s sign area and struck employee # 1\n",
      "Score F1 : 0.32\n",
      "\n",
      "Exemple #6\n",
      "Texte :  On June 14  2011  Employee #1 was part of a road crew picking up and removing  a piece of traffic control equipment that was located on a trailer. The  equipment had been positioned in the emergency shoulder of an interstate  highway. A driver of a passenger vehicle fell asleep while driving and crossed  three lanes of traffic. The passenger vehicle struck the trailered equipment  and Employee #1. Employee #1 was killed.                                        \n",
      "Réponse attendue : The passenger vehicle struck the trailered equipment and Employee #1\n",
      "Réponse générée : a driver of a passenger vehicle fell asleep while driving and crossed three lanes of traffic. the passenger vehicle struck the trailered equipment and employee # 1. employee # 1 was killed.\n",
      "Score F1 : 0.47\n",
      "\n",
      "Exemple #7\n",
      "Texte :  At approximately 9:00 a.m. on February 6  2009  Employee #1 was a service  technician for Arbon Equipment. He was at Birds Eye Foods to service the dock  lock on Bay Number 3. He parked his service truck in front of Bay Number 3. A  tractor-trailer unit was parked in the adjacent bay and there was a gap of  approximately 2 to 3 ft between the trailer and the loading dock frame.  Employee #1 went to the front of the truck to look for the driver. He did not  see the driver so he walked to the back of the trailer and climbed on top of  the dock lock to examine it. The truck driver had been in the sleeper berth. A  dock worker notified the truck driver that he was not fully backed into place  at the loading dock. The driver backed up to close the gap  unaware that  Employee #1 was on the dock lock. Employee #1 fell off the dock lock and was  pinned between the loading dock and trailer. He suffered a fractured pelvis  a  ruptured bladder  and leg vein damage. He was hospitalized for treatment of  his injuries.                                                                   \n",
      "Réponse attendue : Employee #1 fell off the dock lock and was  pinned between the loading dock and trailer\n",
      "Réponse générée : \n",
      "Score F1 : 0.00\n",
      "\n",
      "Exemple #8\n",
      "Texte :  At 3:45 a.m. on September 29  2011  Employee #1  who was employed by Greene's   Inc.  was removing temporary traffic control barrels on Interstate 15 (I-15)  and approximately 14100 South. The company had been working on a stretch of  I-15 from the Utah County line to 12300 South in Salt Lake County. The  project  which had begun in May  was to replace damaged sections of the  Interstate  and the work was being conducted in the evenings. According to  witnesses  Employee #1 had begun removing the temporary traffic control  barrels at the north end of the northbound 14300 South on-ramp. The barrels  that were located at the south end of the on-ramp had been removed before it  was safe to allow traffic to use the on-ramp. A dump truck had entered the  on-ramp  and the driver of the dump truck did not know that workers were still  removing the barrels from the work site. Employee #1 had removed a barrel from  the interstate and had placed it on the east side of the on-ramp. He was  walking west across the on-ramp to remove another barrel and was struck by the  dump truck. Employee #1 was killed. Employee #1 was wearing a high-visibility  vest but the driver of the dump truck did not see him in time to stop.          \n",
      "Réponse attendue : struck by the  dump truck\n",
      "Réponse générée : \n",
      "Score F1 : 0.00\n",
      "\n",
      "Exemple #9\n",
      "Texte :  On August 24  2003  Jose Crespin Company  a stucco contractor  employed  Employee #1 and four coworkers. They were applying a stucco finish to the  exterior insulating finishing system on the Home Depot  Store Number 6555.  After completing the lumber canopy at the west end of the building  the  employees moved to the east end to finish the exterior insulating finishing  system on the spandrel panels at the garden center. While waiting for the  building surface to cool  the employees took a work break. During their break   the weather swiftly changed from clear and sunny to heavy rain and strong  winds. The employees then moved to the north side of the building at the  garden center where they hoped that the masonry piers and spandrel panels  would shelter them from the rain. The wind reached speeds in excess of 40 mph  and began collapsing the masonry piers (C.1-0.2 and C.1-0.3) where the  employees were standing. Realizing the imminent danger of the collapsing  piers  four employees fled from the area. Employee #1 became entangled in a  sheet of plastic  and was unable to break free when stub pier \"C.1-0.3\"  a  14-foot tall masonry pier  collapsed on him  crushing him. He was killed from  asphyxia.                                                                       \n",
      "Réponse attendue : 14-foot tall masonry pier  collapsed on him  crushing him\n",
      "Réponse générée : the employees took a work break\n",
      "Score F1 : 0.00\n",
      "\n",
      "Exemple #10\n",
      "Texte :  On October 24  2008  Employee #1 was working inside the freestanding carport  that was under construction  supported by vertical temporary bracing along the  outside perimeter. Employee #1's coworker was standing on the outside of the  carport with his hands resting on one of the temporary bracing. Employee #1  was operating the 20-ton bottle jack  which had an additional support on top  of the jack. Employee #1 was placing the additional support brace on top of  the bottle jack in the upward position. The support resting on the jack came  into contact with the underside wooden beams. The support in back of the jack  was removed to install trim under the area to replace the support. Employee #1  completed jacking and his coworker was about to remove the temporary vertical  wooden support  when the carport structure shifted off the temporary supports   trapping Employee #1 on the inside structure of the carport  breaking his  neck. Employee #1 died as a result of his injuries.                             \n",
      "Réponse attendue : trapping Employee #1 on the inside structure of the carport\n",
      "Réponse générée : employee # 1 ' s coworker was standing on the outside of the carport with his hands resting on one of the temporary bracing\n",
      "Score F1 : 0.37\n",
      "\n",
      "Exemple #11\n",
      "Texte :  At approximately 7:15 a.m. on August 9  2007  Employee #1 and a coworker were  stripping the interior form work of a 15 ft long by 8 ft deep by 3 ft wide by  8 in. thick  type G-2 drainage inlet structure. They were doing this while the  cement slurry backfill was being poured between the excavation wall and the  north wall of the inlet structure. Two trucks  each carrying 10 cubic yards of  the slurry  had already poured in their contents. When the third truck pour  was in progress  the north wall developed vertical cracks and pushed toward  the south wall of the inlet structure  crushing Employee #1 against the south  wall. He sustained numerous bodily injuries. The coworker was able to climb  out safely.                                                                     \n",
      "Réponse attendue : crushing Employee #1 against the south  wall\n",
      "Réponse générée : cement slurry backfill was being poured between the excavation wall and the north wall of the inlet structure\n",
      "Score F1 : 0.10\n",
      "\n",
      "Exemple #12\n",
      "Texte :  At approximately 2:15 p.m. on June 21  2011  Employee #1 was repairing a  pipeline for a new housing development. Employee #2 laid a pipe in the trench  using an 8 ft. high trench box. The foreman noticed a separation between some  previously laid pipe and had his crew pull out the affected sections of pipe.  He went to his truck to gather some testing equipment for the pressure test  that needed to be performed on the remaining sections of piping. Employee #1  went into the trench to set up for the test  the north wall caved in. There  was no cave-in protection other than sloping the top 3 to 4 ft. portion of  excavation. Employee #1 was killed when buried. The foreman had told Employee  #1 prior to leaving the scene not to enter the trench without having the  trench box reinstalled in the trench.                                           \n",
      "Réponse attendue : Employee #1 was killed when buried\n",
      "Réponse générée : the foreman noticed a separation between some previously laid pipe and had his crew pull out the affected sections of pipe\n",
      "Score F1 : 0.00\n",
      "\n",
      "Exemple #13\n",
      "Texte :  At approximately 3:00 p.m. on June 17  2010  Employee #1  a plumber  and the  company general manager were laying approximately 475 ft of 4 in. PVC lateral  sewer line from a new residential dwelling to a municipal tie-in point. The  general manager was operating a Bobcat excavator  Model Number 331E   Identification Number 232711536  while Employee #1 occupied the 4 ft to 7 ft  deep trench checking the fall angle of the lateral and connecting gasket  joints with grease. Approximately 200 ft into the work  Employee #1 was  working in a 7 ft deep part of the trench near a solid wall 2.5 ft wide by 5  ft deep by 33 ft long when it sheared and collapsed. Employee #1 was killed.  Upon further investigation  it was learned that nine days prior to this event   the local electric municipal dug and backfilled an underground line from a  transformer to the residential dwelling with a trenching machine that made 4  in. to 6 in. wide cuts at a 4 ft to 5 ft depth. The trench wall ran adjacent  to the previously trenched electrical line by 2.5 ft. Due to the prior trench  work  there was inadequate sloping and backfill and an engineered tension  crack which increased the angle of internal friction and shear strength of the  wall.                                                                           \n",
      "Réponse attendue : it sheared and collapsed\n",
      "Réponse générée : checking the fall angle of the lateral and connecting gasket joints with grease\n",
      "Score F1 : 0.13\n",
      "\n",
      "Exemple #14\n",
      "Texte :  At approximately 3:45 PM on April 18  2007  Employee #1 had accessed a hopper  barge to release a cable that had been used to support the barge on the  starboard side. The barge  a Flexifloat  is a modular system consisting of two  10 ft by 40 ft sections side by side with another 10 ft by 20 ft section  attached at the end. The total size was 20 ft by 50 ft. The hopper section  consisted of 1-in. plate steel. The plates were welded vertically to the deck  and the side plates were welded at an angle with steel I beams for support to  deflect material to the center. The plates were approximately 8 ft high. The  barge was used to catch construction debris from a bridge that was being  demolished. After Employee #1 released the cable  a coworker who was operating  a tug boat  put the boat at notch one in reverse to back the barge out from  under the bridge. After moving approximately 2 ft the barge listed to  starboard approximately 6 to12 inches. It then rolled back to port the same  distance  then back to even keel. It then rolled back to port and capsized  both vessels. As the vessels were rolling to the port side  Employee #1 jumped  into the water and started to swim away. The coworker  at almost the same  time  jumped from the pilot house and swam away. As the barge capsized   Employee #1 was caught in the hopper section trapping him under the barge and  he drowned.                                                                     \n",
      "Réponse attendue : he drowned\n",
      "Réponse générée : employee # 1 had accessed a hopper barge to release a cable that had been used to support the barge on the starboard side\n",
      "Score F1 : 0.00\n",
      "\n",
      "Exemple #15\n",
      "Texte :  At 12:50 p.m. on March 26  2012  Employee #1 was crossing between two 60-foot  by 80-foot barges moored in place on Nickajack Lake. Employee #1 was stepping  across a gap approximately 2 foot wide between the barges  when his fall  arrest lanyard became tangled on a mooring post. Employee #1 lost his balance  and fell from the east-most barge into the 50-degree Fahrenheit water of  Nickajack Lake. While in the water  Employee #1 became separated from his life  jacket. As fellow employees from each barge attempted to rescue him  Employee  #1 sank and drowned in 60 feet of water.                                        \n",
      "Réponse attendue : Employee  #1 sank and drowned in 60 feet of water\n",
      "Réponse générée : employee # 1 became separated from his life jacket\n",
      "Score F1 : 0.22\n",
      "\n",
      "\n",
      "--- WHERE - Exemples avec scores faibles ---\n",
      "Exemple #1\n",
      "Texte :    At approximately 9:30 a.m. on November17  2010  Employee #1 of Midwest  Masonry  Inc.  was responsible for using the cement mixer. He was struck by  the cement mixer that tipped over in the process of mixing cement/concrete.  Employee #1 suffered bruises to his upper right thigh and right hip. There was  no visible damage to the cement mixer. In addition  there were no employees to  observe how the cement mixer fell on the employee.                              \n",
      "Réponse attendue : mixing cement/concrete\n",
      "Réponse générée : process of mixing cement / concrete\n",
      "Score F1 : 0.29\n",
      "\n",
      "Exemple #2\n",
      "Texte :  On August 24  2003  Jose Crespin Company  a stucco contractor  employed  Employee #1 and four coworkers. They were applying a stucco finish to the  exterior insulating finishing system on the Home Depot  Store Number 6555.  After completing the lumber canopy at the west end of the building  the  employees moved to the east end to finish the exterior insulating finishing  system on the spandrel panels at the garden center. While waiting for the  building surface to cool  the employees took a work break. During their break   the weather swiftly changed from clear and sunny to heavy rain and strong  winds. The employees then moved to the north side of the building at the  garden center where they hoped that the masonry piers and spandrel panels  would shelter them from the rain. The wind reached speeds in excess of 40 mph  and began collapsing the masonry piers (C.1-0.2 and C.1-0.3) where the  employees were standing. Realizing the imminent danger of the collapsing  piers  four employees fled from the area. Employee #1 became entangled in a  sheet of plastic  and was unable to break free when stub pier \"C.1-0.3\"  a  14-foot tall masonry pier  collapsed on him  crushing him. He was killed from  asphyxia.                                                                       \n",
      "Réponse attendue : the garden center\n",
      "Réponse générée : home depot store number 6555\n",
      "Score F1 : 0.00\n",
      "\n",
      "Exemple #3\n",
      "Texte :  At approximately 7:15 a.m. on August 9  2007  Employee #1 and a coworker were  stripping the interior form work of a 15 ft long by 8 ft deep by 3 ft wide by  8 in. thick  type G-2 drainage inlet structure. They were doing this while the  cement slurry backfill was being poured between the excavation wall and the  north wall of the inlet structure. Two trucks  each carrying 10 cubic yards of  the slurry  had already poured in their contents. When the third truck pour  was in progress  the north wall developed vertical cracks and pushed toward  the south wall of the inlet structure  crushing Employee #1 against the south  wall. He sustained numerous bodily injuries. The coworker was able to climb  out safely.                                                                     \n",
      "Réponse attendue : G-2 drainage inlet structure\n",
      "Réponse générée : between the excavation wall and the north wall of the inlet structure\n",
      "Score F1 : 0.31\n",
      "\n",
      "Exemple #4\n",
      "Texte :  At approximately 1:20 p.m. on November 9  2010  Employee #1 was working for  his employer  a construction contractor  and he was assigned to work a  trenching project. Employee #1 was installing a 2-inch water line and tracer  wire in the trench  which measured approximately 6.5 feet deep and 2 feet  wide. The trench was not protected  and the spoil pile was directly adjacent  to the trench edge. Employee #1 entered the trench  and the trench wall and  spoil pile collapsed  covering Employee #1. Employee #1 was trapped for  approximately 6 to 8 minutes  and was unconscious when rescuers pulled him  from the trench. Employee #1 was transported to a local hospital and he was  admitted to intensive care. Employee #1 died from his injuries 6 days later.    \n",
      "Réponse attendue : in the trench\n",
      "Réponse générée : \n",
      "Score F1 : 0.00\n",
      "\n",
      "Exemple #5\n",
      "Texte :  At approximately 2:30 on July 12  2007  Employee #1 and coworkers were  installing 8 in. diameter PVC sewer pipe in an approximately 8 ft deep trench.  A coworker had just left the trench to get a connector when the entire east  side caved in and buried Employee #1. He was killed. The Morton County  Sheriff  EMS  and Fire Rescue responded to the rescue attempt  but Employee #1  was pronounced dead at the scene. The trench had been neither sloped nor  shored to prevent a trench wall cave-in.                                        \n",
      "Réponse attendue : in an approximately 8 ft deep trench\n",
      "Réponse générée : \n",
      "Score F1 : 0.00\n",
      "\n",
      "Exemple #6\n",
      "Texte :  On August 18  2009  Employee #1 was inside a 140-ft long and 24-in. in  diameter pipe that ran through a tunnel underneath a highway. Employee #1 was  inside the pipe when a rain storm flooded the pipe  drowning Employee #1.       \n",
      "Réponse attendue : tunnel underneath a highway\n",
      "Réponse générée : inside a 140 - ft long and 24 - in. in diameter pipe that ran through a tunnel underneath a highway\n",
      "Score F1 : 0.32\n",
      "\n"
     ]
    }
   ],
   "source": [
    "# Afficher les exemples avec scores faibles pour analyse\n",
    "for category, examples in low_score_examples.items():\n",
    "    print(f\"\\n--- {category} - Exemples avec scores faibles ---\")\n",
    "    for i, example in enumerate(examples, 1):\n",
    "        print(f\"Exemple #{i}\")\n",
    "        print(\"Texte :\", example[\"text\"])\n",
    "        print(\"Réponse attendue :\", example[\"expected_answer\"])\n",
    "        print(\"Réponse générée :\", example[\"predicted_answer\"])\n",
    "        print(f\"Score F1 : {example['f1_score']:.2f}\\n\")\n"
   ]
  },
  {
   "cell_type": "code",
   "execution_count": null,
   "metadata": {},
   "outputs": [],
   "source": []
  }
 ],
 "metadata": {
  "colab": {
   "provenance": [
    {
     "file_id": "1XcGOz7_AyFG1CYy-drVhTkMrpBQGBLpj",
     "timestamp": 1711422272555
    }
   ]
  },
  "kernelspec": {
   "display_name": "Python 3",
   "language": "python",
   "name": "python3"
  },
  "language_info": {
   "codemirror_mode": {
    "name": "ipython",
    "version": 3
   },
   "file_extension": ".py",
   "mimetype": "text/x-python",
   "name": "python",
   "nbconvert_exporter": "python",
   "pygments_lexer": "ipython3",
   "version": "3.12.1"
  }
 },
 "nbformat": 4,
 "nbformat_minor": 4
}
