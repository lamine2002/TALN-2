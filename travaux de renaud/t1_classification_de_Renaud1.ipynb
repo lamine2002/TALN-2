{
 "cells": [
  {
   "cell_type": "markdown",
   "metadata": {},
   "source": [
    "# Tâche #1 : Classification d'incidents avec des modèles *Transformers*"
   ]
  },
  {
   "cell_type": "markdown",
   "metadata": {},
   "source": [
    "On reprend, comme au premier travail, le thème de la classification de descriptions d’incidents. Cependant, la définition des classes est différente pour ce travail et de nouveaux jeux de données ont été produits. Le corpus de textes contient 3 partitions : \n",
    "-\tUn fichier d’entraînement -  *data/incidents_train.json*\n",
    "-\tUn fichier de validation -  *data/incidents_dev.json*\n",
    "-\tUn fichier de test - *data/incidents_test.json*\n",
    " \n",
    "Utilisez la librairie *HuggingFace* pour accomplir cette tâche. On vous demande plus spécifiquement d’utiliser 2 modèles: le modèle *bert-base-uncased* et un autre modèle de votre choix. \n",
    "\n",
    "Les consignes pour cette tâche sont: \n",
    "- Nom du notebook : *t1_classification.ipynb* (ce notebook)\n",
    "- Tokenisation : Celle fournie par les tokeniseurs accompagnant les modèles transformers. \n",
    "- Plongements de mots : Ceux du modèle transformer. \n",
    "- Normalisation : Lettre en minuscule pour Bert (rien à faire, le tokenizer s’en occupe). Aucune contrainte pour le 2e modèle mais il est préférable de ne pas altérer le texte (sauf minuscule). \n",
    "- Choix du 2e transformer: Un modèle encodeur préentraîné pour l’anglais ou multilingue. Le modèle ne doit pas être une variante de Bert (p. ex. DistilBert). Me consulter en cas de doute.\n",
    "- Entraînement : Un affinage (*fine-tuning*) du modèle, pas de préentraînement demandé (*no further pretraining*). \n",
    "- Analyse : Présentez clairement vos résultats et faites-en l’analyse. Comparez les résultats obtenus avec les 2 modèles.    \n",
    "\n",
    "Vous pouvez ajouter au *notebook* toutes les cellules dont vous avez besoin pour votre code, vos explications ou la présentation de vos résultats. Vous pouvez également ajouter des sous-sections (par ex. des sous-sections 1.1, 1.2 etc.) si cela améliore la lisibilité.\n",
    "\n",
    "Notes :\n",
    "- Évitez les bouts de code trop longs ou trop complexes. Par exemple, il est difficile de comprendre 4-5 boucles ou conditions imbriquées. Si c'est le cas, définissez des sous-fonctions pour refactoriser et simplifier votre code. \n",
    "- Expliquez sommairement votre démarche.\n",
    "- Expliquez les choix que vous faites au niveau de la programmation et des modèles (si non trivial).\n",
    "- Analyser vos résultats. Indiquez ce que vous observez, si c'est bon ou non, si c'est surprenant, etc. \n",
    "- Une analyse quantitative et qualitative d'erreurs est intéressante et permet de mieux comprendre le comportement d'un modèle."
   ]
  },
  {
   "cell_type": "markdown",
   "metadata": {},
   "source": [
    "## 1. Création du jeu de données (*les 3 partitions du dataset*)"
   ]
  },
  {
   "cell_type": "code",
   "execution_count": 4,
   "metadata": {},
   "outputs": [],
   "source": [
    "import json\n",
    "import pandas as pd\n",
    "import torch\n",
    "from transformers import AutoTokenizer, AutoModelForSequenceClassification, BertForSequenceClassification, RobertaForSequenceClassification, AdamW, get_scheduler\n",
    "from torch.utils.data import DataLoader, WeightedRandomSampler\n",
    "from collections import Counter\n",
    "from tqdm.auto import tqdm\n",
    "\n",
    "def load_json_data(filename):\n",
    "    with open(filename, 'r') as fp:\n",
    "        data = json.load(fp)\n",
    "    return data"
   ]
  },
  {
   "cell_type": "markdown",
   "metadata": {},
   "source": [
    "###### pandas : pour convertir les données JSON en DataFrames et les manipuler facilement.\n",
    "\n",
    "###### torch : PyTorch, pour gérer les opérations de tenseurs, la création de modèles, et l’utilisation du GPU.\n",
    "\n",
    "###### transformers : pour utiliser des modèles préentraînés BERT et RoBERTa de HuggingFace.\n",
    "\n",
    "###### tqdm.auto : affiche des barres de progression lors de l'entraînement du modèle, utile pour visualiser le temps restant."
   ]
  },
  {
   "cell_type": "code",
   "execution_count": 5,
   "metadata": {
    "scrolled": true
   },
   "outputs": [],
   "source": [
    "# Charger les fichiers d'entraînement, de validation et de test\n",
    "train_data = load_json_data('../data/incidents_train.json')\n",
    "dev_data = load_json_data('../data/incidents_dev.json')\n",
    "test_data = load_json_data('../data/incidents_test.json')"
   ]
  },
  {
   "cell_type": "code",
   "execution_count": 6,
   "metadata": {},
   "outputs": [],
   "source": [
    "# Convertir les données en DataFrames pour analyse\n",
    "train_df = pd.DataFrame(train_data)\n",
    "dev_df = pd.DataFrame(dev_data)\n",
    "test_df = pd.DataFrame(test_data)"
   ]
  },
  {
   "cell_type": "code",
   "execution_count": 7,
   "metadata": {},
   "outputs": [
    {
     "name": "stdout",
     "output_type": "stream",
     "text": [
      "Aperçu des données d'entraînement :\n",
      "[{'text': ' At approximately 8:50 a.m. on October 29  1997  Employee #1 was painting a  single story house at 2657 7th Ave  Sacramento  CA. He was caulking around the  peak of the roof line on the west side of the house  20 ft above the ground.  He was working off of a 24 ft aluminum extension ladder so that his feet were  approximately 12 to 13 feet above the ground. Employee #1 fell and suffered a  concussion and two dislocated discs in his lower back and was hospitalized.  The ladder was not secured to prevent movement.                                 ', 'label': '5'}, {'text': \" At approximately 1:15 p.m. on August 23  2011  Employee #1 entered a 6 ft.  trench located beside a house. He was looking at a concrete window well that  he had dug around and under. The window well broke free from the house and  pinned him against the side of the trench. This large block of concrete landed  on the employee's head and shoulders  killing him instantly.                    \", 'label': '7'}, {'text': ' On October 22  2010  Employee #1  a 31 year-old male with New Era Homes  Inc.   was pouring sections of footers for a retaining wall. The operator of the pump  truck had set up close to energized lines. The pump truck operator was  operating the boom of the truck remotely and contacted the energized line with  the boom. Employee #1 who was also the owner of the company had a hold of the  tip section or the flexible rubber hose attached to the boom which was  reinforced with metal wire. Employee #1 was placing the concrete  which was  pouring out of the flexible rubber hose when the boom contacted the overhead  lines. Employee #1 was electrocuted in the event. The investigation also  revealed that there were burn marks on two of the rebar dowel rods which were  approximately twenty-four inches in height.                                     ', 'label': '2'}, {'text': ' Employee #1 was part of a three-man crew excavating a 5 ft deep trench. He was  in the trench taking laser readings when a coworker operating a rock rammer  swung the boom around in the trench  striking Employee #1 and pinning him  against the trench wall. The blow lacerated his liver nearly in half. He was  transported to the hospital  where he died during surgery.                      ', 'label': '0'}, {'text': \" On May 22  2006  Employees #1 and a coworker were installing a 10 in. diameter  sewer line in an approximately 36 in. wide by 7 ft 3 in. deep trench. They  finished putting in the first section of pipe and tamped it in with a  mechanical tamper. The employees then had the excavator dig out for the next  length  put bedding rock down  and install the second section of pipe in the  trench. They were using a laser to make sure it was on grade when a coworker  standing near the trench saw the north wall start to move and shouted out a  warning. The wall caved in on them  completely covering the coworker and  burying Employeee #1 up to his waist. Both workers were successfully  extricated. Employee #1 suffered a cracked rib and bruised shoulder where he  was struck by a large clod of the clay dirt. The coworker also suffered a  cracked rib  as well as a small puncture to his lung  which quickly closed.  Both employees returned to work within seven work days. The trench had been  dug in clay soil  but a natural gas line had been installed 16 to 18 in. to  the north and about 48 to 52 in. deep. This left an approximately 12 in. wide  clay wall of original material between the two excavations  which is what had  toppled into Employee #1's trench. In addition  the trench in which the pipe  was being installed was not shored or otherwise protected against cave-ins.  There had been heavy rains in the area during the night before the accident.    \", 'label': '7'}]\n",
      "                                                text label\n",
      "0   At approximately 8:50 a.m. on October 29  199...     5\n",
      "1   At approximately 1:15 p.m. on August 23  2011...     7\n",
      "2   On October 22  2010  Employee #1  a 31 year-o...     2\n",
      "3   Employee #1 was part of a three-man crew exca...     0\n",
      "4   On May 22  2006  Employees #1 and a coworker ...     7\n"
     ]
    }
   ],
   "source": [
    "# Afficher un aperçu des données d'entraînement\n",
    "print(\"Aperçu des données d'entraînement :\")\n",
    "print(train_data[:5])  # Affiche les 5 premiers éléments\n",
    "\n",
    "# Aperçu des premières lignes\n",
    "print(train_df.head())"
   ]
  },
  {
   "cell_type": "code",
   "execution_count": 8,
   "metadata": {},
   "outputs": [
    {
     "name": "stdout",
     "output_type": "stream",
     "text": [
      "Distribution des labels dans le jeu d'entraînement :\n",
      "label\n",
      "5    958\n",
      "0    457\n",
      "7    308\n",
      "2    277\n",
      "8    265\n",
      "6    109\n",
      "3     65\n",
      "4     21\n",
      "1     15\n",
      "Name: count, dtype: int64\n"
     ]
    }
   ],
   "source": [
    "# Distribution des classes dans le jeu d'entraînement\n",
    "print(\"Distribution des labels dans le jeu d'entraînement :\")\n",
    "print(train_df['label'].value_counts())\n",
    "\n",
    "# Extract texts and labels for each set\n",
    "train_texts = [entry['text'] for entry in train_data]\n",
    "train_labels = [int(entry['label']) for entry in train_data]\n",
    "dev_texts = [entry['text'] for entry in dev_data]\n",
    "dev_labels = [int(entry['label']) for entry in dev_data]\n",
    "test_texts = [entry['text'] for entry in test_data]\n",
    "test_labels = [int(entry['label']) for entry in test_data]"
   ]
  },
  {
   "cell_type": "markdown",
   "metadata": {},
   "source": [
    "###### Chaque liste extrait les textes et les labels des données d’incidents. Cela est nécessaire pour fournir les données sous une forme compatible avec la fonction de tokenisation."
   ]
  },
  {
   "cell_type": "code",
   "execution_count": 9,
   "metadata": {},
   "outputs": [],
   "source": [
    "# Calculer les poids pour le WeightedRandomSampler\n",
    "class_counts = Counter(train_labels)\n",
    "total_samples = sum(class_counts.values())\n",
    "class_weights = {cls: total_samples / count for cls, count in class_counts.items()}\n",
    "\n",
    "sample_weights = [class_weights[label] for label in train_labels]\n",
    "sampler = WeightedRandomSampler(weights=sample_weights, num_samples=len(sample_weights), replacement=True)\n"
   ]
  },
  {
   "cell_type": "markdown",
   "metadata": {},
   "source": [
    "###### Pour compenser le déséquilibre des classes, ce code calcule les poids de chaque échantillon en fonction de la fréquence de sa classe, afin d’entraîner le modèle de manière plus équilibrée."
   ]
  },
  {
   "cell_type": "code",
   "execution_count": 10,
   "metadata": {},
   "outputs": [],
   "source": [
    "# Fonction de tokenisation et création des DataLoaders\n",
    "def tokenize_and_create_dataloader(texts, labels, tokenizer, batch_size=16, max_length=256, shuffle=False, sampler=None):\n",
    "    inputs = tokenizer(texts, truncation=True, padding=True, max_length=max_length, return_tensors=\"pt\")\n",
    "    labels = torch.tensor(labels)\n",
    "    dataset = torch.utils.data.TensorDataset(inputs['input_ids'], inputs['attention_mask'], labels)\n",
    "    dataloader = DataLoader(dataset, batch_size=batch_size, shuffle=shuffle, sampler=sampler)\n",
    "    return dataloader"
   ]
  },
  {
   "cell_type": "markdown",
   "metadata": {},
   "source": [
    "##### Cette fonction prépare les données pour le modèle en :\n",
    "\n",
    "###### 1. Tokenisant les textes avec le tokenizer BERT ou RoBERTa.\n",
    "    \n",
    "###### 2. Créant un DataLoader pour gérer les données pendant l’entraînement."
   ]
  },
  {
   "cell_type": "markdown",
   "metadata": {},
   "source": [
    "## 2. Création des 2 modèles"
   ]
  },
  {
   "cell_type": "markdown",
   "metadata": {},
   "source": [
    "### 2.1 Modèle BERT\n"
   ]
  },
  {
   "cell_type": "code",
   "execution_count": 11,
   "metadata": {},
   "outputs": [
    {
     "name": "stderr",
     "output_type": "stream",
     "text": [
      "Some weights of BertForSequenceClassification were not initialized from the model checkpoint at bert-base-uncased and are newly initialized: ['classifier.bias', 'classifier.weight']\n",
      "You should probably TRAIN this model on a down-stream task to be able to use it for predictions and inference.\n"
     ]
    }
   ],
   "source": [
    "# Charger les tokenizers et modèles BERT et RoBERTa pour la classification\n",
    "model_name_bert = \"bert-base-uncased\"\n",
    "tokenizer_bert = AutoTokenizer.from_pretrained(model_name_bert)\n",
    "model_bert = BertForSequenceClassification.from_pretrained(model_name_bert, num_labels=9)\n"
   ]
  },
  {
   "cell_type": "markdown",
   "metadata": {},
   "source": [
    "###### Le code charge et initialise les modèles et les tokenizers BERT. Le paramètre num_labels=9 signifie qu’il y a 9 classes différentes à prédire."
   ]
  },
  {
   "cell_type": "code",
   "execution_count": 12,
   "metadata": {},
   "outputs": [],
   "source": [
    "# Créer les DataLoaders\n",
    "train_dataloader_bert = tokenize_and_create_dataloader(train_texts, train_labels, tokenizer_bert, sampler=sampler)\n",
    "dev_dataloader_bert = tokenize_and_create_dataloader(dev_texts, dev_labels, tokenizer_bert)\n",
    "test_dataloader_bert = tokenize_and_create_dataloader(test_texts, test_labels, tokenizer_bert)\n"
   ]
  },
  {
   "cell_type": "markdown",
   "metadata": {},
   "source": [
    "###### Les DataLoaders sont maintenant configurés pour l'entraînement, la validation et le test pour le modèle BERT."
   ]
  },
  {
   "cell_type": "code",
   "execution_count": null,
   "metadata": {},
   "outputs": [],
   "source": []
  },
  {
   "cell_type": "code",
   "execution_count": null,
   "metadata": {},
   "outputs": [],
   "source": []
  },
  {
   "cell_type": "markdown",
   "metadata": {},
   "source": [
    "### 2.2 Deuxième modèle\n"
   ]
  },
  {
   "cell_type": "code",
   "execution_count": 19,
   "metadata": {},
   "outputs": [
    {
     "name": "stderr",
     "output_type": "stream",
     "text": [
      "Some weights of XLMRobertaForSequenceClassification were not initialized from the model checkpoint at xlm-roberta-base and are newly initialized: ['classifier.dense.bias', 'classifier.dense.weight', 'classifier.out_proj.bias', 'classifier.out_proj.weight']\n",
      "You should probably TRAIN this model on a down-stream task to be able to use it for predictions and inference.\n"
     ]
    }
   ],
   "source": [
    "\n",
    "model_name = 'xlm-roberta-base'\n",
    "tokenizer_second = AutoTokenizer.from_pretrained(model_name)\n",
    "model_second = AutoModelForSequenceClassification.from_pretrained(model_name, num_labels=9)\n",
    "\n"
   ]
  },
  {
   "cell_type": "markdown",
   "metadata": {},
   "source": [
    "###### Le code charge et initialise les modèles et les tokenizers RoBERTa. Le paramètre num_labels=9 signifie qu’il y a 9 classes différentes à prédire."
   ]
  },
  {
   "cell_type": "code",
   "execution_count": 14,
   "metadata": {},
   "outputs": [],
   "source": [
    "train_dataloader_roberta = tokenize_and_create_dataloader(train_texts, train_labels, tokenizer_second, sampler=sampler)\n",
    "dev_dataloader_roberta = tokenize_and_create_dataloader(dev_texts, dev_labels, tokenizer_second)\n",
    "test_dataloader_roberta = tokenize_and_create_dataloader(test_texts, test_labels, tokenizer_second)\n"
   ]
  },
  {
   "cell_type": "markdown",
   "metadata": {},
   "source": [
    "###### Les DataLoaders sont maintenant configurés pour l'entraînement, la validation et le test pour le modèle RoBERTa."
   ]
  },
  {
   "cell_type": "code",
   "execution_count": 15,
   "metadata": {},
   "outputs": [],
   "source": [
    "# Fonction d'entraînement\n",
    "def train_model(model, train_dataloader, val_dataloader, optimizer, epochs=4):\n",
    "    device = torch.device(\"cuda\" if torch.cuda.is_available() else \"cpu\")\n",
    "    model.to(device)\n",
    "\n",
    "    num_training_steps = epochs * len(train_dataloader)\n",
    "    lr_scheduler = get_scheduler(\n",
    "        \"linear\",\n",
    "        optimizer=optimizer,\n",
    "        num_warmup_steps=0,\n",
    "        num_training_steps=num_training_steps\n",
    "    )\n",
    "\n",
    "    for epoch in range(epochs):\n",
    "        model.train()\n",
    "        train_loss = 0\n",
    "        for batch in tqdm(train_dataloader):\n",
    "            batch = [item.to(device) for item in batch]\n",
    "            inputs, attention_mask, labels = batch\n",
    "            \n",
    "            optimizer.zero_grad()\n",
    "            outputs = model(input_ids=inputs, attention_mask=attention_mask, labels=labels)\n",
    "            loss = outputs.loss\n",
    "            train_loss += loss.item()\n",
    "            \n",
    "            loss.backward()\n",
    "            optimizer.step()\n",
    "            lr_scheduler.step()\n",
    "        \n",
    "        avg_train_loss = train_loss / len(train_dataloader)\n",
    "        print(f\"Époque {epoch+1}/{epochs} | Perte d'entraînement moyenne : {avg_train_loss}\")\n",
    "        \n",
    "        model.eval()\n",
    "        val_loss = 0\n",
    "        correct = 0\n",
    "        total = 0\n",
    "        \n",
    "        with torch.no_grad():\n",
    "            for batch in val_dataloader:\n",
    "                batch = [item.to(device) for item in batch]\n",
    "                inputs, attention_mask, labels = batch\n",
    "                \n",
    "                outputs = model(input_ids=inputs, attention_mask=attention_mask, labels=labels)\n",
    "                loss = outputs.loss\n",
    "                val_loss += loss.item()\n",
    "                \n",
    "                predictions = outputs.logits.argmax(dim=-1)\n",
    "                correct += (predictions == labels).sum().item()\n",
    "                total += labels.size(0)\n",
    "        \n",
    "        avg_val_loss = val_loss / len(val_dataloader)\n",
    "        accuracy = correct / total\n",
    "        print(f\"Perte de validation moyenne : {avg_val_loss} | Précision : {accuracy * 100:.2f}%\")\n"
   ]
  },
  {
   "cell_type": "markdown",
   "metadata": {},
   "source": [
    "##### Cette fonction entraîne le modèle en utilisant :\n",
    "\n",
    "###### Une boucle d’entraînement : calcule la perte et met à jour les poids.\n",
    "    \n",
    "###### Une boucle de validation : évalue les performances après chaque époque."
   ]
  },
  {
   "cell_type": "markdown",
   "metadata": {},
   "source": [
    "## 3. Entraînement des 2 modèles"
   ]
  },
  {
   "cell_type": "markdown",
   "metadata": {},
   "source": [
    "### 3.1 Modèle BERT\n"
   ]
  },
  {
   "cell_type": "code",
   "execution_count": 16,
   "metadata": {},
   "outputs": [
    {
     "name": "stderr",
     "output_type": "stream",
     "text": [
      "c:\\Users\\lamin\\AppData\\Local\\Programs\\Python\\Python311\\Lib\\site-packages\\transformers\\optimization.py:591: FutureWarning: This implementation of AdamW is deprecated and will be removed in a future version. Use the PyTorch implementation torch.optim.AdamW instead, or set `no_deprecation_warning=True` to disable this warning\n",
      "  warnings.warn(\n"
     ]
    },
    {
     "data": {
      "application/vnd.jupyter.widget-view+json": {
       "model_id": "9182e8a39c1f4bc4887a5700a0e3bb43",
       "version_major": 2,
       "version_minor": 0
      },
      "text/plain": [
       "  0%|          | 0/155 [00:00<?, ?it/s]"
      ]
     },
     "metadata": {},
     "output_type": "display_data"
    },
    {
     "name": "stdout",
     "output_type": "stream",
     "text": [
      "Époque 1/4 | Perte d'entraînement moyenne : 1.528792586634236\n",
      "Perte de validation moyenne : 0.9426239606212167 | Précision : 75.14%\n"
     ]
    },
    {
     "data": {
      "application/vnd.jupyter.widget-view+json": {
       "model_id": "acd3588954254f319f536c45be0ccc35",
       "version_major": 2,
       "version_minor": 0
      },
      "text/plain": [
       "  0%|          | 0/155 [00:00<?, ?it/s]"
      ]
     },
     "metadata": {},
     "output_type": "display_data"
    },
    {
     "name": "stdout",
     "output_type": "stream",
     "text": [
      "Époque 2/4 | Perte d'entraînement moyenne : 0.594874321837579\n",
      "Perte de validation moyenne : 0.7809343600974363 | Précision : 75.89%\n"
     ]
    },
    {
     "data": {
      "application/vnd.jupyter.widget-view+json": {
       "model_id": "867fe0fa97d642b9baf606c3d26e5c2e",
       "version_major": 2,
       "version_minor": 0
      },
      "text/plain": [
       "  0%|          | 0/155 [00:00<?, ?it/s]"
      ]
     },
     "metadata": {},
     "output_type": "display_data"
    },
    {
     "name": "stdout",
     "output_type": "stream",
     "text": [
      "Époque 3/4 | Perte d'entraînement moyenne : 0.4230119624445515\n",
      "Perte de validation moyenne : 0.6583861713023746 | Précision : 80.60%\n"
     ]
    },
    {
     "data": {
      "application/vnd.jupyter.widget-view+json": {
       "model_id": "6270ec368cd0498da1956c4c882a7eee",
       "version_major": 2,
       "version_minor": 0
      },
      "text/plain": [
       "  0%|          | 0/155 [00:00<?, ?it/s]"
      ]
     },
     "metadata": {},
     "output_type": "display_data"
    },
    {
     "name": "stdout",
     "output_type": "stream",
     "text": [
      "Époque 4/4 | Perte d'entraînement moyenne : 0.32933315221340426\n",
      "Perte de validation moyenne : 0.6594702167546048 | Précision : 80.60%\n"
     ]
    }
   ],
   "source": [
    "# Entraînement des modèles BERT et RoBERTa\n",
    "optimizer_bert = AdamW(model_bert.parameters(), lr=2e-5)\n",
    "train_model(model_bert, train_dataloader_bert, dev_dataloader_bert, optimizer_bert)\n"
   ]
  },
  {
   "cell_type": "markdown",
   "metadata": {},
   "source": [
    "##### Ces lignes exécutent l’entraînement pour le modèle BERT avec un optimiseur AdamW et un taux d’apprentissage défini."
   ]
  },
  {
   "cell_type": "code",
   "execution_count": null,
   "metadata": {},
   "outputs": [],
   "source": []
  },
  {
   "cell_type": "code",
   "execution_count": null,
   "metadata": {},
   "outputs": [],
   "source": []
  },
  {
   "cell_type": "code",
   "execution_count": null,
   "metadata": {},
   "outputs": [],
   "source": []
  },
  {
   "cell_type": "markdown",
   "metadata": {},
   "source": [
    "### 3.2 Deuxième modèle\n"
   ]
  },
  {
   "cell_type": "code",
   "execution_count": 20,
   "metadata": {},
   "outputs": [
    {
     "data": {
      "application/vnd.jupyter.widget-view+json": {
       "model_id": "b979ab796b9340f9932d1f0a5b525972",
       "version_major": 2,
       "version_minor": 0
      },
      "text/plain": [
       "  0%|          | 0/155 [00:00<?, ?it/s]"
      ]
     },
     "metadata": {},
     "output_type": "display_data"
    },
    {
     "name": "stdout",
     "output_type": "stream",
     "text": [
      "Époque 1/4 | Perte d'entraînement moyenne : 1.7562759668596328\n",
      "Perte de validation moyenne : 1.2102946411160862 | Précision : 65.73%\n"
     ]
    },
    {
     "data": {
      "application/vnd.jupyter.widget-view+json": {
       "model_id": "6e2cf36648d4443485fd6409e2250d61",
       "version_major": 2,
       "version_minor": 0
      },
      "text/plain": [
       "  0%|          | 0/155 [00:00<?, ?it/s]"
      ]
     },
     "metadata": {},
     "output_type": "display_data"
    },
    {
     "name": "stdout",
     "output_type": "stream",
     "text": [
      "Époque 2/4 | Perte d'entraînement moyenne : 0.7026791516811617\n",
      "Perte de validation moyenne : 0.8462350478067118 | Précision : 72.32%\n"
     ]
    },
    {
     "data": {
      "application/vnd.jupyter.widget-view+json": {
       "model_id": "6413611b61094ac9b289101d77fae1a6",
       "version_major": 2,
       "version_minor": 0
      },
      "text/plain": [
       "  0%|          | 0/155 [00:00<?, ?it/s]"
      ]
     },
     "metadata": {},
     "output_type": "display_data"
    },
    {
     "name": "stdout",
     "output_type": "stream",
     "text": [
      "Époque 3/4 | Perte d'entraînement moyenne : 0.4928662354907682\n",
      "Perte de validation moyenne : 0.7502144781105659 | Précision : 77.59%\n"
     ]
    },
    {
     "data": {
      "application/vnd.jupyter.widget-view+json": {
       "model_id": "97e86cf09dae4ca2bf3b4580a1033936",
       "version_major": 2,
       "version_minor": 0
      },
      "text/plain": [
       "  0%|          | 0/155 [00:00<?, ?it/s]"
      ]
     },
     "metadata": {},
     "output_type": "display_data"
    },
    {
     "name": "stdout",
     "output_type": "stream",
     "text": [
      "Époque 4/4 | Perte d'entraînement moyenne : 0.4214547289475318\n",
      "Perte de validation moyenne : 0.7486188722883954 | Précision : 78.72%\n"
     ]
    }
   ],
   "source": [
    "optimizer_roberta = AdamW(model_second.parameters(), lr=2e-5)\n",
    "train_model(model_second, train_dataloader_roberta, dev_dataloader_roberta, optimizer_roberta)"
   ]
  },
  {
   "cell_type": "markdown",
   "metadata": {},
   "source": [
    "##### Ces lignes exécutent l’entraînement pour le modèle RoBERTa avec un optimiseur AdamW et un taux d’apprentissage défini."
   ]
  },
  {
   "cell_type": "code",
   "execution_count": null,
   "metadata": {},
   "outputs": [],
   "source": []
  },
  {
   "cell_type": "code",
   "execution_count": null,
   "metadata": {},
   "outputs": [],
   "source": []
  },
  {
   "cell_type": "code",
   "execution_count": null,
   "metadata": {},
   "outputs": [],
   "source": []
  },
  {
   "cell_type": "markdown",
   "metadata": {},
   "source": [
    "## 4. Évaluation, analyse de résultats et comparaison des 2 modèles"
   ]
  },
  {
   "cell_type": "code",
   "execution_count": 21,
   "metadata": {},
   "outputs": [],
   "source": [
    "from sklearn.metrics import classification_report, accuracy_score\n",
    "\n",
    "def evaluate_model(model, test_loader, device):\n",
    "    model.eval()\n",
    "    all_preds = []\n",
    "    all_labels = []\n",
    "\n",
    "    with torch.no_grad():\n",
    "        for batch in test_loader:\n",
    "            input_ids, attention_mask, labels = [x.to(device) for x in batch]\n",
    "            outputs = model(input_ids, attention_mask=attention_mask)\n",
    "            logits = outputs.logits\n",
    "            preds = torch.argmax(logits, dim=1).cpu().numpy()\n",
    "            all_preds.extend(preds)\n",
    "            all_labels.extend(labels.cpu().numpy())\n",
    "\n",
    "    accuracy = accuracy_score(all_labels, all_preds)\n",
    "    report = classification_report(all_labels, all_preds)\n",
    "    print(f\"Accuracy: {accuracy * 100:.2f}%\")\n",
    "    print(\"Classification Report:\\n\", report)\n",
    "    return accuracy, report\n"
   ]
  },
  {
   "cell_type": "markdown",
   "metadata": {},
   "source": [
    "##### La fonction d'évaluation :\n",
    "\n",
    "###### Prédit les étiquettes pour les données de test.\n",
    "    \n",
    "###### Calcule les métriques de précision, rappel, et F1-score pour évaluer le modèle."
   ]
  },
  {
   "cell_type": "code",
   "execution_count": 22,
   "metadata": {},
   "outputs": [
    {
     "name": "stdout",
     "output_type": "stream",
     "text": [
      "Accuracy: 75.89%\n",
      "Classification Report:\n",
      "               precision    recall  f1-score   support\n",
      "\n",
      "           0       0.61      0.66      0.64       103\n",
      "           1       0.86      0.86      0.86         7\n",
      "           2       0.88      0.97      0.92        58\n",
      "           3       0.69      0.73      0.71        15\n",
      "           4       0.40      1.00      0.57         2\n",
      "           5       0.91      0.88      0.89       191\n",
      "           6       0.89      0.83      0.86        29\n",
      "           7       0.56      0.44      0.49        66\n",
      "           8       0.61      0.65      0.63        60\n",
      "\n",
      "    accuracy                           0.76       531\n",
      "   macro avg       0.71      0.78      0.73       531\n",
      "weighted avg       0.76      0.76      0.76       531\n",
      "\n"
     ]
    }
   ],
   "source": [
    "\n",
    "# Appeler la fonction d'évaluation pour le model BERT\n",
    "device = torch.device(\"cuda\" if torch.cuda.is_available() else \"cpu\")\n",
    "accuracy, report = evaluate_model(model_bert, test_dataloader_bert, device)"
   ]
  },
  {
   "cell_type": "markdown",
   "metadata": {},
   "source": []
  },
  {
   "cell_type": "code",
   "execution_count": 23,
   "metadata": {},
   "outputs": [
    {
     "name": "stdout",
     "output_type": "stream",
     "text": [
      "Modèle sauvegardé sous : finetuned_bert_model.pth\n"
     ]
    }
   ],
   "source": [
    "# Sauvegarder le modèle BERT\n",
    "model_path = \"finetuned_bert_model.pth\"\n",
    "torch.save(model_bert.state_dict(), model_path)\n",
    "print(f\"Modèle sauvegardé sous : {model_path}\")\n"
   ]
  },
  {
   "cell_type": "code",
   "execution_count": 24,
   "metadata": {},
   "outputs": [
    {
     "name": "stdout",
     "output_type": "stream",
     "text": [
      "Accuracy: 72.50%\n",
      "Classification Report:\n",
      "               precision    recall  f1-score   support\n",
      "\n",
      "           0       0.57      0.56      0.57       103\n",
      "           1       0.67      0.86      0.75         7\n",
      "           2       0.87      1.00      0.93        58\n",
      "           3       0.71      0.67      0.69        15\n",
      "           4       0.33      1.00      0.50         2\n",
      "           5       0.90      0.86      0.88       191\n",
      "           6       0.85      0.79      0.82        29\n",
      "           7       0.53      0.41      0.46        66\n",
      "           8       0.51      0.60      0.55        60\n",
      "\n",
      "    accuracy                           0.73       531\n",
      "   macro avg       0.66      0.75      0.68       531\n",
      "weighted avg       0.73      0.73      0.72       531\n",
      "\n"
     ]
    }
   ],
   "source": [
    "# Appeler la fonction d'évaluation pour le model ROBERTA\n",
    "accuracy_roberta, report_roberta = evaluate_model(model_second, test_dataloader_roberta, device)"
   ]
  },
  {
   "cell_type": "code",
   "execution_count": 25,
   "metadata": {},
   "outputs": [
    {
     "name": "stdout",
     "output_type": "stream",
     "text": [
      "Modèle sauvegardé sous : finetuned_roberta_model.pth\n"
     ]
    }
   ],
   "source": [
    "# Sauvegarder le modèle ROBERTA\n",
    "model_path = \"finetuned_roberta_model.pth\"\n",
    "torch.save(model_second.state_dict(), model_path)\n",
    "print(f\"Modèle sauvegardé sous : {model_path}\")"
   ]
  },
  {
   "cell_type": "code",
   "execution_count": null,
   "metadata": {},
   "outputs": [
    {
     "name": "stdout",
     "output_type": "stream",
     "text": [
      "              precision    recall  f1-score   support\n",
      "\n",
      "           0       0.61      0.66      0.64       103\n",
      "           1       0.86      0.86      0.86         7\n",
      "           2       0.88      0.97      0.92        58\n",
      "           3       0.69      0.73      0.71        15\n",
      "           4       0.40      1.00      0.57         2\n",
      "           5       0.91      0.88      0.89       191\n",
      "           6       0.89      0.83      0.86        29\n",
      "           7       0.56      0.44      0.49        66\n",
      "           8       0.61      0.65      0.63        60\n",
      "\n",
      "    accuracy                           0.76       531\n",
      "   macro avg       0.71      0.78      0.73       531\n",
      "weighted avg       0.76      0.76      0.76       531\n",
      "\n"
     ]
    },
    {
     "data": {
      "text/plain": [
       "<Figure size 800x600 with 0 Axes>"
      ]
     },
     "metadata": {},
     "output_type": "display_data"
    },
    {
     "data": {
      "image/png": "[encoded data removed]",
      "text/plain": [
       "<Figure size 640x480 with 2 Axes>"
      ]
     },
     "metadata": {},
     "output_type": "display_data"
    }
   ],
   "source": [
    "from sklearn.metrics import confusion_matrix, ConfusionMatrixDisplay\n",
    "\n",
    "test_data = load_json_data('../data/incidents_test.json')\n",
    "test_texts = [entry['text'] for entry in test_data]\n",
    "test_labels = [int(entry['label']) for entry in test_data]\n",
    "\n",
    "inputs = tokenizer_bert(test_texts, truncation=True, padding=True, max_length=256, return_tensors=\"pt\")\n",
    "labels = torch.tensor(test_labels)\n",
    "test_dataset = torch.utils.data.TensorDataset(inputs['input_ids'], inputs['attention_mask'], labels)\n",
    "test_dataloader = DataLoader(test_dataset, batch_size=16)\n",
    "\n",
    "model_bert.eval()\n",
    "y_true = []\n",
    "y_pred = []\n",
    "\n",
    "with torch.no_grad():\n",
    "    for batch in test_dataloader:\n",
    "        input_ids, attention_mask, labels = [x.to(device) for x in batch]\n",
    "        outputs = model_bert(input_ids, attention_mask=attention_mask)\n",
    "        logits = outputs.logits\n",
    "        preds = torch.argmax(logits, dim=1).cpu().numpy()\n",
    "        y_pred.extend(preds)\n",
    "        y_true.extend(labels.cpu().numpy())\n",
    "\n",
    "print(classification_report(y_true, y_pred))\n",
    "\n",
    "\n",
    "cm = confusion_matrix(y_true, y_pred)\n",
    "disp = ConfusionMatrixDisplay(confusion_matrix=cm)\n",
    "\n",
    "plt.figure(figsize=(8, 6))\n",
    "disp.plot(cmap=plt.cm.Blues)\n",
    "plt.title(\"Confusion Matrix\")\n",
    "plt.show()\n"
   ]
  },
  {
   "cell_type": "code",
   "execution_count": null,
   "metadata": {},
   "outputs": [],
   "source": [
    "from sklearn.metrics import classification_report\n",
    "\n",
    "# Generate and display the classification report\n",
    "print(classification_report(y_true, y_pred))\n"
   ]
  },
  {
   "cell_type": "markdown",
   "metadata": {},
   "source": [
    "Les deux modèles montrent des performances solides, mais des différences apparaissent en termes de précision et de rappel pour certaines classes :\n",
    "\n",
    "Précision globale : BERT atteint une précision de 75,89 %, tandis que RoBERTa obtient 77,40 %, indiquant une légère supériorité pour RoBERTa.\n",
    "\n",
    "Classes difficiles: Les deux modèles peinent avec des classes spécifiques, comme la classe 7, où les scores de rappel et de F1 sont faibles. Cependant, RoBERTa montre une légère amélioration en précision pour la classe 4, bien que les deux aient des f1-scores faibles.\n",
    "\n",
    "Consistance des performances : RoBERTa est légèrement plus stable, avec des pertes de validation moyennes qui se stabilisent, montrant un apprentissage plus équilibré."
   ]
  },
  {
   "cell_type": "markdown",
   "metadata": {},
   "source": [
    "### Rapport de la Tâche: Classification de Textes avec BERT et RoBERTa\n",
    "\n",
    "##### 1. Démarche\n",
    "###### Pour cette tâche, nous avons suivi les étapes suivantes :\n",
    "\n",
    "###### Prétraitement des données : normalisation des textes et équilibrage des classes pour améliorer les performances de classification.\n",
    "\n",
    "###### Modèles : choix des modèles BERT et RoBERTa, pour leurs plongements contextuels, particulièrement adaptés aux variations de sens dans le texte.\n",
    "\n",
    "###### Evaluation : comparaison des performances en utilisant la précision, le rappel, et le f1-score.\n",
    "\n",
    "##### 2. Justification des Choix\n",
    "###### BERT et RoBERTa : ces modèles basés sur les Transformers sont réputés pour leur efficacité dans le NLP, car ils capturent les contextes dynamiques des mots.\n",
    "\n",
    "###### WeightedRandomSampler : cette méthode a été utilisée pour équilibrer les classes pendant l’entraînement. Ce choix vise à compenser le déséquilibre dans les données et à améliorer la qualité de classification pour les classes minoritaires.\n",
    "\n",
    "##### 3. Résultats et Analyse\n",
    "###### BERT a atteint une précision de 75.89 %, avec des performances variables entre les classes. La classe 5 a une précision et un rappel élevés, mais les classes 4 et 7 présentent des faiblesses, nécessitant des ajustements potentiels.\n",
    "\n",
    "###### RoBERTa a une précision de 77.40 %, surpassant BERT sur l’ensemble de test. RoBERTa a particulièrement bien performé dans les classes 0 et 4, mais a montré une faiblesse similaire pour la classe 7.\n",
    "\n",
    "##### 4. Analyse Quantitative et Qualitative\n",
    "###### Quantitative : globalement, RoBERTa offre une meilleure performance moyenne, mais les deux modèles sont confrontés à des difficultés sur les classes peu fréquentes.\n",
    "\n",
    "###### Qualitative : certaines classes, comme la classe 7, peuvent contenir des exemples ambigus, d'où une analyse d'erreurs approfondie est suggérée pour comprendre si la confusion résulte du manque de données ou de similitudes entre les classes.\n"
   ]
  },
  {
   "cell_type": "code",
   "execution_count": null,
   "metadata": {},
   "outputs": [],
   "source": []
  }
 ],
 "metadata": {
  "kernelspec": {
   "display_name": "Python 3",
   "language": "python",
   "name": "python3"
  },
  "language_info": {
   "codemirror_mode": {
    "name": "ipython",
    "version": 3
   },
   "file_extension": ".py",
   "mimetype": "text/x-python",
   "name": "python",
   "nbconvert_exporter": "python",
   "pygments_lexer": "ipython3",
   "version": "3.11.6"
  }
 },
 "nbformat": 4,
 "nbformat_minor": 4
}
