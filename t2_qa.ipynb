{
 "cells": [
  {
   "cell_type": "markdown",
   "metadata": {
    "id": "TyqwIyCh1ZxY"
   },
   "source": [
    "# **Tâche #2 - Questions-réponses avec un modèle QA extractif**\n",
    "\n",
    "Cette tâche consiste à utiliser un modèle de question-réponse extractif de type transformer afin de repérer des informations dans un texte. Vous utilisez la librairie HuggingFace pour accomplir cette tâche. On demande plus spécifiquement d’utiliser le modèle *bert-large-uncased-whole-word-masking-finetuned-squad*.\n",
    "\n",
    "La tâche a pour but précis de repérer 3 informations dans les descriptions textuelles : le lieu et la date de l’incident ainsi qu’un court passage de texte indiquant ce qui s’est passé.  Une partie importante de votre travail consiste à trouver de bonnes formulations de questions pour repérer ces informations. Le fichier *t2_qa_examples*.json, qui contient 25 exemples annotés par un humain, est disponible pour mener vos expérimentations.\n",
    "\n",
    "Les consignes pour cette tâche sont:\n",
    "-\tNom du notebook : *t2_qa.ipynb* (ce notebook)\n",
    "-\tTokenisation et plongements de mots : Ceux du modèle utilisé.\n",
    "-\tNormalisation : Aucune normalisation à faire (le tokeniseur convertit les lettres en minuscule).\n",
    "-\tConstruction du modèle : vous utilisez la version préentraînée du modèle sans modification. Aucun affinement (fine-tuning) du modèle n’est requis pour cette tâche.\n",
    "-\tÉvaluation : Du code est disponible dans le notebook pour évaluer la performance du modèle avec les métriques *exact match* et *F1*.\n",
    "-\tAnalyse : Présentez et discutez des résultats que vous obtenez pour les 3 types d’informations à repérer. Discutez également de vos choix de questions pour accomplir cette tâche et les erreurs commises par le modèle QA."
   ]
  },
  {
   "cell_type": "markdown",
   "metadata": {
    "id": "O4U3Dg2p47_R"
   },
   "source": [
    "Vous pouvez ajouter au notebook toutes les cellules dont vous avez besoin pour votre code, vos explications ou la présentation de vos résultats. Vous pouvez également ajouter des sous-sections (par ex. des sous-sections 1.1, 1.2 etc.) si cela améliore la lisibilité.\n",
    "\n",
    "Notes :\n",
    "- Évitez les bouts de code trop longs ou trop complexes. Par exemple, il est difficile de comprendre 4-5 boucles ou conditions imbriquées. Si c'est le cas, définissez des sous-fonctions pour refactoriser et simplifier votre code.\n",
    "- Expliquez sommairement votre démarche.\n",
    "- Expliquez les choix que vous faites au niveau de la programmation et des modèles (si non trivial).\n",
    "- Analysez vos résultats. Indiquez ce que vous observez, si c'est bon ou non, si c'est surprenant, etc.\n",
    "- Une analyse quantitative et qualitative d'erreurs est intéressante et permet de mieux comprendre le comportement d'un modèle."
   ]
  },
  {
   "cell_type": "markdown",
   "metadata": {
    "id": "I-EMnvr-5k-3"
   },
   "source": [
    "## 1. Le chargement des données\n",
    "\n",
    "Utilisez le fichier ***/data/t2_qa_examples.json*** pour mener vos expérimentations. "
   ]
  },
  {
   "cell_type": "code",
   "execution_count": 1,
   "metadata": {
    "executionInfo": {
     "elapsed": 5,
     "status": "ok",
     "timestamp": 1729266512755,
     "user": {
      "displayName": "Luc Lamontagne",
      "userId": "08837927508284087562"
     },
     "user_tz": 240
    },
    "id": "S_YxKHYm5k-3"
   },
   "outputs": [],
   "source": [
    "import json\n",
    "\n",
    "def load_json_data(filename):\n",
    "    with open(filename, 'r') as fp:\n",
    "        data = json.load(fp)\n",
    "    return data"
   ]
  },
  {
   "cell_type": "code",
   "execution_count": 2,
   "metadata": {
    "colab": {
     "base_uri": "https://localhost:8080/"
    },
    "executionInfo": {
     "elapsed": 1555,
     "status": "ok",
     "timestamp": 1729266514306,
     "user": {
      "displayName": "Luc Lamontagne",
      "userId": "08837927508284087562"
     },
     "user_tz": 240
    },
    "id": "Kko-88AL6K2k",
    "outputId": "2588ec14-a514-451d-9f91-e1637af8772b"
   },
   "outputs": [
    {
     "name": "stdout",
     "output_type": "stream",
     "text": [
      "Nombre total d'exemples: 25\n",
      "[{'EVENT': 'Employee #1  was struck and thrown',\n",
      "  'WHEN': 'November 10  2013',\n",
      "  'WHERE': 'railroad bridge overpass',\n",
      "  'text': ' At around 10:00 p.m. on November 10  2013  Employee #1  with '\n",
      "          'Villager  Construction Inc.  with a coworker  were using an asphalt '\n",
      "          'milling machine  (Wirtgen; Model Number: W2100) to grind out '\n",
      "          'existing asphalt from an  interstate at a railroad bridge overpass. '\n",
      "          'Employee # 1 was standing on the  ground  checking the depth of the '\n",
      "          'cut into the asphalt  using a handheld  pendant attached to the '\n",
      "          'machine. The pedant could stretch out from ten to 15  ft. This '\n",
      "          'allowed Employee #1 to walk back and forth  checking the cut. The  '\n",
      "          'operator was on the top of the milling machine  controlling the '\n",
      "          'operation of  the machine and ensuring that the milling machine and '\n",
      "          'dump truck (driven by a  second coworker  who worked for an '\n",
      "          'independent trucking service) kept a safe  working distance. A '\n",
      "          'different company  Protective Services Inc. (PSI)  was  responsible '\n",
      "          'for the traffic control of the job site and had shut down the  '\n",
      "          'inside lane of a three lane section of the interstate  so that work '\n",
      "          'could be  conducted on that lane. The entire work zone was '\n",
      "          'approximately two miles long   from start to finish. Employee #1 '\n",
      "          'and the operator of the milling machine had  completed milling four '\n",
      "          'sections (eight total passes) of the inside lane at the  bridge '\n",
      "          'overpasses and were waiting for PSI to shut down the center lane. '\n",
      "          'Dual  lane shut down of the inside and center lanes of the '\n",
      "          'interstate was completed  around 9:30 p.m.  and Employee #1 and the '\n",
      "          'milling machine operator milled two  sections (four total passes) '\n",
      "          'of the center lane. Once both sides of the  overpass were milled '\n",
      "          'out  approximately 200 ft on each side  Employee #1 and  the '\n",
      "          'operator of the milling machine moved the milling machine down the  '\n",
      "          'interstate  approximately1 000 ft  to a railroad overpass and began '\n",
      "          'setting up  to mill the center lane sections. The truck driver '\n",
      "          'backed his truck into  position and remained in the truck to move '\n",
      "          'the truck slowly forward as milling  took place. Employee #1 was '\n",
      "          'positioned between the milling machine and the  concrete median '\n",
      "          'dividers  inside the coned off work zone. The lanes of travel  were '\n",
      "          'approximately 12 ft wide  so the milling machine made two passes  '\n",
      "          'since  it can only cut seven ft wide on each section to cover the '\n",
      "          'entire lane.  Employee #1 was standing approximately three ft in '\n",
      "          'the far inside lane on the  ground between milling machine and '\n",
      "          'interior median wall inside of the approved  traffic control set '\n",
      "          'up  and approximately midway up the machine and 17 ft from  the '\n",
      "          'traffic control devices and flow of traffic. The milling machine '\n",
      "          'was  approximately nine ft wide by 50 ft long  while operating. '\n",
      "          'Employee #1 was  guarded by the machine from the flow of traffic. '\n",
      "          'Approximately five to ten  minutes into the first pass  the milling '\n",
      "          'machine operator noticed lights  hitting the reflectors on the '\n",
      "          'inside wall and turned briefly to see a vehicle  coming. The '\n",
      "          'operator thought it was the Project manager coming to check on the  '\n",
      "          'status of the project. Then  the operator realized that the '\n",
      "          'oncoming vehicle  was not equipped with a strobe  as required in '\n",
      "          'work zones. The operator turned  and yelled for Employee # 1 to run '\n",
      "          'for safety  as a Chevrolet Tahoe came down  the inside lane where '\n",
      "          'Employee #1 was standing. The driver of the Tahoe  continued '\n",
      "          'traveling in the far inside lane of the work zone  where Employee '\n",
      "          '#1  was struck and thrown some 100 ft from where he was originally '\n",
      "          'standing. The  vehicle was moving approximately 45 mph per hour. As '\n",
      "          'he was transferred to a  hospital by emergency personnel  Employee '\n",
      "          '#1 was treated for severe trauma   lacerations  fractures  and '\n",
      "          'contusions to the body and head. Employee #1 was  pronounced dead '\n",
      "          'at the hospital. The driver of the vehicle disregarded the  traffic '\n",
      "          'control set up  all warning lights on the rear of the milling '\n",
      "          'machine   and cone spacing of 100 ft. The construction work zone '\n",
      "          'was set up correctly  with all signage  cone spacing  tapering  '\n",
      "          'attenuators  and lighting; all of  the traffic control set up was '\n",
      "          'approved by MUTCD for this type of tr '},\n",
      " {'EVENT': 'the Panther which weighed over 2 000  pounds fell on his left foot '\n",
      "           'and pinned it',\n",
      "  'WHEN': 'August 27  2012',\n",
      "  'WHERE': 'Menlo Park California',\n",
      "  'text': ' On August 27  2012  Employee #1  a 19 year-old male laborer with '\n",
      "          'Stomper  Company Inc.  arrived at 2:00 .am. at a site in Menlo Park '\n",
      "          'California to  demolish the interiors of the building. They scraped '\n",
      "          'the interiors of the  building and collected debris as they '\n",
      "          'finished up the job. On August 28  2012   at approximately 10:00 '\n",
      "          'a.m  the job assignment was done and every employee was  to put '\n",
      "          'away all the rubble and gather all equipment in order to pack up '\n",
      "          'and  leave the site. When the job assignment was finished  it is '\n",
      "          'typical for all  employees to gather everything and put it away '\n",
      "          'into the garbage bin or in  their trailers and bins. At the time  '\n",
      "          'four coworkers were outside in the  parking lot working near the '\n",
      "          'Number 5 700 Panther. Two coworkers were going to  load the number '\n",
      "          '5 700 Panther and Employee #1 stated that he was going to load  the '\n",
      "          'number 5 700 Panther on a trailer when their trailer returns from '\n",
      "          'the trip  delivering their first load. This worker got on a Gradall '\n",
      "          'machine to lift a  box bin and move it towards the number 5 700 '\n",
      "          'Panther. The coworkers stated  that Employee #1  not the employee '\n",
      "          'designated to drive the Panther  got on  this vehicle and started '\n",
      "          'driving it. Employee #1 attempted to load a number  5 700 Panther '\n",
      "          'on to a bin. This bin had a rubber lip with a four to five inch  '\n",
      "          \"incline ramp on its lip's edge. Employee #1 drove the Panther \"\n",
      "          'straight  backwards on the bin and did not go through this four to '\n",
      "          'five inch ramp bump  on to the bin. Right after this unsuccessful '\n",
      "          'attempt  Employee #1 drove it  backwards a second time except this '\n",
      "          'time slightly slanted to his left side.  The left wheel touched the '\n",
      "          'ramp first. On this second attempt  the number  5 700 Panther fell '\n",
      "          'and flipped over. Employee #1 attempted to jump out of this  '\n",
      "          'vehicle but was unable to get away as the Panther which weighed '\n",
      "          'over 2 000  pounds fell on his left foot and pinned it. A coworker '\n",
      "          'got the Gradall  machinery in order to remove the Panther that was '\n",
      "          \"on top of Employee #1's left  foot. Employee #1 suffered a serious \"\n",
      "          'fracture injury to his left leg and was  hospitalized over '\n",
      "          'twenty-four hours. Employee #1 also stated that he is well  trained '\n",
      "          'in driving other construction vehicle equipment by another '\n",
      "          'foreman.     '},\n",
      " {'EVENT': 'Employee #1 had a seizure',\n",
      "  'WHEN': 'September 19  2012',\n",
      "  'WHERE': 'a bathroom  facility',\n",
      "  'text': ' On September 19  2012  Employee #1 had a seizure while utilizing a '\n",
      "          'bathroom  facility. The employee has past history of seizures. A '\n",
      "          'coworker found Employee  #1 unresponsive  and called 911 then '\n",
      "          'performed CPR  on the employee until  paramedics arrived. Employee '\n",
      "          '#1 was transported to St. James hospital in  Chicago Heights  where '\n",
      "          'he was pronounced dead.                                  '},\n",
      " {'EVENT': 'He was struck by  the cement mixer',\n",
      "  'WHEN': 'November17  2010',\n",
      "  'WHERE': 'mixing cement/concrete',\n",
      "  'text': '   At approximately 9:30 a.m. on November17  2010  Employee #1 of '\n",
      "          'Midwest  Masonry  Inc.  was responsible for using the cement mixer. '\n",
      "          'He was struck by  the cement mixer that tipped over in the process '\n",
      "          'of mixing cement/concrete.  Employee #1 suffered bruises to his '\n",
      "          'upper right thigh and right hip. There was  no visible damage to '\n",
      "          'the cement mixer. In addition  there were no employees to  observe '\n",
      "          'how the cement mixer fell on the '\n",
      "          'employee.                              '},\n",
      " {'EVENT': 'struck Employee #1',\n",
      "  'WHEN': 'September 26  2013',\n",
      "  'WHERE': 'one mile away',\n",
      "  'text': ' On September 26  2013  Employee #1  a \"flagger\" with Iowa Erosion '\n",
      "          'Control   Inc.  was turning a vertical sign from STOP to SLOW  '\n",
      "          'based upon the location  of a pilot car running between the '\n",
      "          'worker\\'s location and a second coworker  \"flagger \" located '\n",
      "          'approximately one mile away. A semi-truck came up over a  hill to '\n",
      "          'the south of Employee #1. While traveling  its brakes locked up   '\n",
      "          'leaving residue on the roadway. Then  the semi-truck swerved to '\n",
      "          \"miss a car at  Employee #1's sign area and struck Employee #1. \"\n",
      "          'Employee #1 was then dragged  and/or rolled approximately 40 ft to '\n",
      "          'the north  where his body came to rest.  The semi-truck veered into '\n",
      "          'the ditch area at the north edge of the street and  then proceeded '\n",
      "          'north. The Initial investigation revealed that warning signs  were '\n",
      "          'posted along the highway  cones and other markings were present  '\n",
      "          'and  Employee #1was wearing a high visibility vest/clothing. '\n",
      "          'Employee #1 was killed  in the '\n",
      "          'incident.                                                                '}]\n"
     ]
    }
   ],
   "source": [
    "# Charger et afficher quelques exemples\n",
    "from pprint import pprint\n",
    "\n",
    "data = load_json_data('data/t2_qa_examples.json')\n",
    "print(\"Nombre total d'exemples:\", len(data))\n",
    "\n",
    "# utilisation de pprint pour afficher 5 exemplses\n",
    "\n",
    "\n",
    "pprint(data[:5])"
   ]
  },
  {
   "cell_type": "code",
   "execution_count": null,
   "metadata": {
    "executionInfo": {
     "elapsed": 6,
     "status": "ok",
     "timestamp": 1729266514307,
     "user": {
      "displayName": "Luc Lamontagne",
      "userId": "08837927508284087562"
     },
     "user_tz": 240
    },
    "id": "jE2CSpS25k-3"
   },
   "outputs": [],
   "source": []
  },
  {
   "cell_type": "markdown",
   "metadata": {
    "executionInfo": {
     "elapsed": 6,
     "status": "ok",
     "timestamp": 1729266514307,
     "user": {
      "displayName": "Luc Lamontagne",
      "userId": "08837927508284087562"
     },
     "user_tz": 240
    },
    "id": "I_5xjRKS5k-4"
   },
   "source": [
    "## 2. Vos questions \n",
    "\n",
    "Vous pouvez mettre plusieurs options de questions dans le notebook. Il est important de présenter, au minimum, les résultats pour le meilleur jeu de questions. Vous pourrez également mettre des informations à ce propos dans la section d'analyse. "
   ]
  },
  {
   "cell_type": "markdown",
   "metadata": {},
   "source": [
    "### Questions pour le Modèle QA\n",
    "Lister les différentes questions utilisées pour extraire les informations de type WHEN, WHERE et EVENT."
   ]
  },
  {
   "cell_type": "code",
   "execution_count": 3,
   "metadata": {
    "colab": {
     "base_uri": "https://localhost:8080/"
    },
    "executionInfo": {
     "elapsed": 6,
     "status": "ok",
     "timestamp": 1729266514307,
     "user": {
      "displayName": "Luc Lamontagne",
      "userId": "08837927508284087562"
     },
     "user_tz": 240
    },
    "id": "s9DaL3NB5k-4",
    "outputId": "db80ec67-8b3c-4a49-ba63-c330b8eec2d8"
   },
   "outputs": [
    {
     "name": "stdout",
     "output_type": "stream",
     "text": [
      "\n",
      "WHEN questions:\n",
      "When did the incident occur?\n",
      "What is the exact date and time when the incident occurred?\n",
      "What time did the incident occur?\n",
      "When did the incident take place?\n",
      "\n",
      "WHERE questions:\n",
      "Where did the event occur?\n",
      "What is the exact location of the incident?\n",
      "Where did the incident take place?\n",
      "What is the location of the incident?\n",
      "\n",
      "EVENT questions:\n",
      "What unfolded during the incident?\n",
      "What happened during the incident?\n",
      "What is the incident about?\n",
      "Summarize in a few sentences what happened during the incident.\n"
     ]
    }
   ],
   "source": [
    "# liste des questions\n",
    "\n",
    "questions = {\n",
    "    \"WHEN\": [\n",
    "        \"When did the incident occur?\",\n",
    "        \"What is the exact date and time when the incident occurred?\",\n",
    "        \"What time did the incident occur?\",\n",
    "        \"When did the incident take place?\",\n",
    "    ],\n",
    "    \"WHERE\": [  \n",
    "        \"Where did the event occur?\",\n",
    "        \"What is the exact location of the incident?\",\n",
    "        \"Where did the incident take place?\",\n",
    "        \"What is the location of the incident?\",\n",
    "    ],\n",
    "    \"EVENT\": [\n",
    "        \"What unfolded during the incident?\",\n",
    "        \"What happened during the incident?\",\n",
    "        \"What is the incident about?\",\n",
    "        \"Summarize in a few sentences what happened during the incident.\",\n",
    "    ],\n",
    "}\n",
    "\n",
    "# Afficher les questions\n",
    "for key, qs in questions.items():\n",
    "    print(f\"\\n{key} questions:\")\n",
    "    for q in qs:\n",
    "        print(q)"
   ]
  },
  {
   "cell_type": "code",
   "execution_count": null,
   "metadata": {
    "colab": {
     "base_uri": "https://localhost:8080/"
    },
    "executionInfo": {
     "elapsed": 4,
     "status": "ok",
     "timestamp": 1729266514307,
     "user": {
      "displayName": "Luc Lamontagne",
      "userId": "08837927508284087562"
     },
     "user_tz": 240
    },
    "id": "HyOOB_SK5k-4",
    "outputId": "06923dfb-5ef6-4173-cb7c-484f018acf9c"
   },
   "outputs": [],
   "source": []
  },
  {
   "cell_type": "markdown",
   "metadata": {
    "id": "OiwRAI207HMw"
   },
   "source": [
    "## 3. Le modèle de question-réponse extractif"
   ]
  },
  {
   "cell_type": "markdown",
   "metadata": {},
   "source": [
    "### Chargement du Modèle QA\n",
    "Charger le modèle de question-réponse extractif de HuggingFace."
   ]
  },
  {
   "cell_type": "code",
   "execution_count": 4,
   "metadata": {
    "executionInfo": {
     "elapsed": 25144,
     "status": "ok",
     "timestamp": 1729266539448,
     "user": {
      "displayName": "Luc Lamontagne",
      "userId": "08837927508284087562"
     },
     "user_tz": 240
    },
    "id": "UYNo8tAt5k-5"
   },
   "outputs": [
    {
     "name": "stderr",
     "output_type": "stream",
     "text": [
      "/usr/local/python/3.12.1/lib/python3.12/site-packages/tqdm/auto.py:21: TqdmWarning: IProgress not found. Please update jupyter and ipywidgets. See https://ipywidgets.readthedocs.io/en/stable/user_install.html\n",
      "  from .autonotebook import tqdm as notebook_tqdm\n",
      "Some weights of the model checkpoint at bert-large-uncased-whole-word-masking-finetuned-squad were not used when initializing BertForQuestionAnswering: ['bert.pooler.dense.bias', 'bert.pooler.dense.weight']\n",
      "- This IS expected if you are initializing BertForQuestionAnswering from the checkpoint of a model trained on another task or with another architecture (e.g. initializing a BertForSequenceClassification model from a BertForPreTraining model).\n",
      "- This IS NOT expected if you are initializing BertForQuestionAnswering from the checkpoint of a model that you expect to be exactly identical (initializing a BertForSequenceClassification model from a BertForSequenceClassification model).\n"
     ]
    }
   ],
   "source": [
    "from transformers import pipeline\n",
    "\n",
    "# Load the model\n",
    "qa_model = pipeline('question-answering', model='bert-large-uncased-whole-word-masking-finetuned-squad')\n"
   ]
  },
  {
   "cell_type": "code",
   "execution_count": null,
   "metadata": {},
   "outputs": [],
   "source": []
  },
  {
   "cell_type": "code",
   "execution_count": null,
   "metadata": {},
   "outputs": [],
   "source": []
  },
  {
   "cell_type": "code",
   "execution_count": null,
   "metadata": {},
   "outputs": [],
   "source": []
  },
  {
   "cell_type": "markdown",
   "metadata": {
    "id": "RjAf-o8j5k-5"
   },
   "source": [
    "## 4. Des fonctions utilitaires pour l'évaluation"
   ]
  },
  {
   "cell_type": "code",
   "execution_count": 5,
   "metadata": {
    "executionInfo": {
     "elapsed": 7,
     "status": "ok",
     "timestamp": 1729266541783,
     "user": {
      "displayName": "Luc Lamontagne",
      "userId": "08837927508284087562"
     },
     "user_tz": 240
    },
    "id": "SyJV4E9Q5k-5"
   },
   "outputs": [],
   "source": [
    "import string\n",
    "import re\n",
    "from collections import Counter\n",
    "\n",
    "def remove_articles(text):\n",
    "    return re.sub(r'\\b(a|an|the)\\b', ' ', text)\n",
    "\n",
    "def white_space_fix(text):\n",
    "    return ' '.join(text.split())\n",
    "\n",
    "def remove_punc(text):\n",
    "    exclude = set(string.punctuation)\n",
    "    return ''.join(ch for ch in text if ch not in exclude)\n",
    "\n",
    "def lower(text):\n",
    "    return text.lower()\n",
    "\n",
    "def normalize_answer(s):\n",
    "    \"\"\"Mettre en minuscule et retirer la ponctuation, des déterminants and les espaces.\"\"\"\n",
    "    return white_space_fix(remove_articles(remove_punc(lower(s))))"
   ]
  },
  {
   "cell_type": "code",
   "execution_count": 6,
   "metadata": {
    "executionInfo": {
     "elapsed": 6,
     "status": "ok",
     "timestamp": 1729266541783,
     "user": {
      "displayName": "Luc Lamontagne",
      "userId": "08837927508284087562"
     },
     "user_tz": 240
    },
    "id": "tISVAS_d5k-6"
   },
   "outputs": [],
   "source": [
    "def evaluate_f1(ground_truth, prediction):\n",
    "    \"\"\"Normalise les 2 textes, trouve ce qu'il y a en commun et estime précision, rappel et F1.\"\"\"\n",
    "    prediction_tokens = normalize_answer(prediction).split()\n",
    "    ground_truth_tokens = normalize_answer(ground_truth).split()\n",
    "    common = Counter(prediction_tokens) & Counter(ground_truth_tokens)\n",
    "    num_same = sum(common.values())\n",
    "    if len(ground_truth_tokens) == 0 or len(prediction_tokens) == 0:\n",
    "        return int(ground_truth_tokens == prediction_tokens)\n",
    "    if num_same == 0:\n",
    "        return 0\n",
    "    precision = 1.0 * num_same / len(prediction_tokens)\n",
    "    recall = 1.0 * num_same / len(ground_truth_tokens)\n",
    "    f1 = (2 * precision * recall) / (precision + recall)\n",
    "    return f1\n",
    "\n",
    "def evaluate_exact_match(ground_truth, prediction):\n",
    "    \"\"\"Vérifie si les 2 textes sont quasi-identiques.\"\"\"\n",
    "    return (normalize_answer(prediction) == normalize_answer(ground_truth))"
   ]
  },
  {
   "cell_type": "markdown",
   "metadata": {
    "id": "MmvlClMo5k-6"
   },
   "source": [
    "## 5. Évaluation du modèle et analyse\n"
   ]
  },
  {
   "cell_type": "markdown",
   "metadata": {},
   "source": [
    "### Évaluation des Questions\n",
    "    Évaluer les questions pour chaque type d'information (WHEN, WHERE, EVENT) et déterminer les meilleures questions."
   ]
  },
  {
   "cell_type": "code",
   "execution_count": 7,
   "metadata": {
    "colab": {
     "base_uri": "https://localhost:8080/"
    },
    "executionInfo": {
     "elapsed": 670326,
     "status": "ok",
     "timestamp": 1729267212104,
     "user": {
      "displayName": "Luc Lamontagne",
      "userId": "08837927508284087562"
     },
     "user_tz": 240
    },
    "id": "pfQ0vhFQICso",
    "outputId": "2834751b-6057-4ec3-866f-26e146167e65"
   },
   "outputs": [
    {
     "name": "stdout",
     "output_type": "stream",
     "text": [
      "Meilleure question WHEN: When did the incident occur? avec un score moyen de 0.920\n",
      "Meilleure question WHERE: Where did the event occur? avec un score moyen de 0.783\n",
      "Meilleure question EVENT: What unfolded during the incident? avec un score moyen de 0.567\n"
     ]
    }
   ],
   "source": [
    "import numpy as np\n",
    "\n",
    "# Fonction pour évaluer les scores F1 pour une liste de questions\n",
    "def evaluate_questions(questions, data, key):\n",
    "    scores = []\n",
    "    for question in questions:\n",
    "        question_scores = []\n",
    "        for example in data:\n",
    "            context = example['text']\n",
    "            result = qa_model(question=question, context=context)\n",
    "            score = evaluate_f1(example[key], result['answer'])\n",
    "            question_scores.append(score)\n",
    "        scores.append(np.mean(question_scores))\n",
    "    return scores\n",
    "\n",
    "# Évaluer les questions de type WHEN\n",
    "when_scores = evaluate_questions(questions['WHEN'], data, 'WHEN')\n",
    "best_when_question = questions['WHEN'][np.argmax(when_scores)]\n",
    "print(f\"Meilleure question WHEN: {best_when_question} avec un score moyen de {max(when_scores):.3f}\")\n",
    "\n",
    "# Évaluer les questions de type WHERE\n",
    "where_scores = evaluate_questions(questions['WHERE'], data, 'WHERE')\n",
    "best_where_question = questions['WHERE'][np.argmax(where_scores)]\n",
    "print(f\"Meilleure question WHERE: {best_where_question} avec un score moyen de {max(where_scores):.3f}\")\n",
    "\n",
    "# Évaluer les questions de type EVENT\n",
    "event_scores = evaluate_questions(questions['EVENT'], data, 'EVENT')\n",
    "best_event_question = questions['EVENT'][np.argmax(event_scores)]\n",
    "print(f\"Meilleure question EVENT: {best_event_question} avec un score moyen de {max(event_scores):.3f}\")\n"
   ]
  },
  {
   "cell_type": "markdown",
   "metadata": {},
   "source": [
    "### Queleques exemples avec nos best types de questions"
   ]
  },
  {
   "cell_type": "code",
   "execution_count": 9,
   "metadata": {
    "colab": {
     "base_uri": "https://localhost:8080/",
     "height": 1000
    },
    "executionInfo": {
     "elapsed": 1894,
     "status": "ok",
     "timestamp": 1729267213976,
     "user": {
      "displayName": "Luc Lamontagne",
      "userId": "08837927508284087562"
     },
     "user_tz": 240
    },
    "id": "W3TI0aLN3vIJ",
    "outputId": "45e76508-e48f-4dd8-f90c-85cd2f728a74"
   },
   "outputs": [
    {
     "name": "stdout",
     "output_type": "stream",
     "text": [
      "Example 1:\n",
      "Context:  At around 10:00 p.m. on November 10  2013  Employee #1  with Villager  Construction Inc.  with a coworker  were using an asphalt milling machine  (Wirtgen; Model Number: W2100) to grind out existing asphalt from an  interstate at a railroad bridge overpass. Employee # 1 was standing on the  ground  checking the depth of the cut into the asphalt  using a handheld  pendant attached to the machine. The pedant could stretch out from ten to 15  ft. This allowed Employee #1 to walk back and forth  checking the cut. The  operator was on the top of the milling machine  controlling the operation of  the machine and ensuring that the milling machine and dump truck (driven by a  second coworker  who worked for an independent trucking service) kept a safe  working distance. A different company  Protective Services Inc. (PSI)  was  responsible for the traffic control of the job site and had shut down the  inside lane of a three lane section of the interstate  so that work could be  conducted on that lane. The entire work zone was approximately two miles long   from start to finish. Employee #1 and the operator of the milling machine had  completed milling four sections (eight total passes) of the inside lane at the  bridge overpasses and were waiting for PSI to shut down the center lane. Dual  lane shut down of the inside and center lanes of the interstate was completed  around 9:30 p.m.  and Employee #1 and the milling machine operator milled two  sections (four total passes) of the center lane. Once both sides of the  overpass were milled out  approximately 200 ft on each side  Employee #1 and  the operator of the milling machine moved the milling machine down the  interstate  approximately1 000 ft  to a railroad overpass and began setting up  to mill the center lane sections. The truck driver backed his truck into  position and remained in the truck to move the truck slowly forward as milling  took place. Employee #1 was positioned between the milling machine and the  concrete median dividers  inside the coned off work zone. The lanes of travel  were approximately 12 ft wide  so the milling machine made two passes  since  it can only cut seven ft wide on each section to cover the entire lane.  Employee #1 was standing approximately three ft in the far inside lane on the  ground between milling machine and interior median wall inside of the approved  traffic control set up  and approximately midway up the machine and 17 ft from  the traffic control devices and flow of traffic. The milling machine was  approximately nine ft wide by 50 ft long  while operating. Employee #1 was  guarded by the machine from the flow of traffic. Approximately five to ten  minutes into the first pass  the milling machine operator noticed lights  hitting the reflectors on the inside wall and turned briefly to see a vehicle  coming. The operator thought it was the Project manager coming to check on the  status of the project. Then  the operator realized that the oncoming vehicle  was not equipped with a strobe  as required in work zones. The operator turned  and yelled for Employee # 1 to run for safety  as a Chevrolet Tahoe came down  the inside lane where Employee #1 was standing. The driver of the Tahoe  continued traveling in the far inside lane of the work zone  where Employee #1  was struck and thrown some 100 ft from where he was originally standing. The  vehicle was moving approximately 45 mph per hour. As he was transferred to a  hospital by emergency personnel  Employee #1 was treated for severe trauma   lacerations  fractures  and contusions to the body and head. Employee #1 was  pronounced dead at the hospital. The driver of the vehicle disregarded the  traffic control set up  all warning lights on the rear of the milling machine   and cone spacing of 100 ft. The construction work zone was set up correctly  with all signage  cone spacing  tapering  attenuators  and lighting; all of  the traffic control set up was approved by MUTCD for this type of tr \n",
      "Where: railroad bridge overpass\n",
      "F1 score: 1.0\n",
      "When: November 10  2013\n",
      "F1 score: 1.0\n",
      "Event: Employee #1  was struck and thrown\n",
      "F1 score: 1.0\n",
      "\n",
      "Example 2:\n",
      "Context:  On August 27  2012  Employee #1  a 19 year-old male laborer with Stomper  Company Inc.  arrived at 2:00 .am. at a site in Menlo Park California to  demolish the interiors of the building. They scraped the interiors of the  building and collected debris as they finished up the job. On August 28  2012   at approximately 10:00 a.m  the job assignment was done and every employee was  to put away all the rubble and gather all equipment in order to pack up and  leave the site. When the job assignment was finished  it is typical for all  employees to gather everything and put it away into the garbage bin or in  their trailers and bins. At the time  four coworkers were outside in the  parking lot working near the Number 5 700 Panther. Two coworkers were going to  load the number 5 700 Panther and Employee #1 stated that he was going to load  the number 5 700 Panther on a trailer when their trailer returns from the trip  delivering their first load. This worker got on a Gradall machine to lift a  box bin and move it towards the number 5 700 Panther. The coworkers stated  that Employee #1  not the employee designated to drive the Panther  got on  this vehicle and started driving it. Employee #1 attempted to load a number  5 700 Panther on to a bin. This bin had a rubber lip with a four to five inch  incline ramp on its lip's edge. Employee #1 drove the Panther straight  backwards on the bin and did not go through this four to five inch ramp bump  on to the bin. Right after this unsuccessful attempt  Employee #1 drove it  backwards a second time except this time slightly slanted to his left side.  The left wheel touched the ramp first. On this second attempt  the number  5 700 Panther fell and flipped over. Employee #1 attempted to jump out of this  vehicle but was unable to get away as the Panther which weighed over 2 000  pounds fell on his left foot and pinned it. A coworker got the Gradall  machinery in order to remove the Panther that was on top of Employee #1's left  foot. Employee #1 suffered a serious fracture injury to his left leg and was  hospitalized over twenty-four hours. Employee #1 also stated that he is well  trained in driving other construction vehicle equipment by another foreman.     \n",
      "Where: Menlo Park California\n",
      "F1 score: 1.0\n",
      "When: August 27  2012\n",
      "F1 score: 1.0\n",
      "Event: the number  5 700 Panther fell and flipped over\n",
      "F1 score: 0.3478260869565218\n",
      "\n",
      "Example 3:\n",
      "Context:  On September 19  2012  Employee #1 had a seizure while utilizing a bathroom  facility. The employee has past history of seizures. A coworker found Employee  #1 unresponsive  and called 911 then performed CPR  on the employee until  paramedics arrived. Employee #1 was transported to St. James hospital in  Chicago Heights  where he was pronounced dead.                                  \n",
      "Where: a bathroom  facility\n",
      "F1 score: 1.0\n",
      "When: September 19  2012\n",
      "F1 score: 1.0\n",
      "Event: A coworker found Employee  #1 unresponsive  and called 911\n",
      "F1 score: 0.3333333333333333\n",
      "\n",
      "Example 4:\n",
      "Context:    At approximately 9:30 a.m. on November17  2010  Employee #1 of Midwest  Masonry  Inc.  was responsible for using the cement mixer. He was struck by  the cement mixer that tipped over in the process of mixing cement/concrete.  Employee #1 suffered bruises to his upper right thigh and right hip. There was  no visible damage to the cement mixer. In addition  there were no employees to  observe how the cement mixer fell on the employee.                              \n",
      "Where: process of mixing cement/concrete\n",
      "F1 score: 0.6666666666666666\n",
      "When: November17  2010\n",
      "F1 score: 1.0\n",
      "Event: Employee #1 suffered bruises to his upper right thigh and right hip\n",
      "F1 score: 0\n",
      "\n",
      "Example 5:\n",
      "Context:  On September 26  2013  Employee #1  a \"flagger\" with Iowa Erosion Control   Inc.  was turning a vertical sign from STOP to SLOW  based upon the location  of a pilot car running between the worker's location and a second coworker  \"flagger \" located approximately one mile away. A semi-truck came up over a  hill to the south of Employee #1. While traveling  its brakes locked up   leaving residue on the roadway. Then  the semi-truck swerved to miss a car at  Employee #1's sign area and struck Employee #1. Employee #1 was then dragged  and/or rolled approximately 40 ft to the north  where his body came to rest.  The semi-truck veered into the ditch area at the north edge of the street and  then proceeded north. The Initial investigation revealed that warning signs  were posted along the highway  cones and other markings were present  and  Employee #1was wearing a high visibility vest/clothing. Employee #1 was killed  in the incident.                                                                \n",
      "Where: one mile away\n",
      "F1 score: 1.0\n",
      "When: September 26  2013\n",
      "F1 score: 1.0\n",
      "Event: the semi-truck swerved to miss a car\n",
      "F1 score: 0\n",
      "\n"
     ]
    }
   ],
   "source": [
    "for i in range(5):\n",
    "    example = data[i]\n",
    "    context = example['text']\n",
    "    \n",
    "    print(f\"Example {i+1}:\")\n",
    "    print(\"Context:\", context)\n",
    "    \n",
    "    where_result = qa_model(question=best_where_question, context=context)\n",
    "    print(\"Where:\", where_result['answer'])\n",
    "    print(\"F1 score:\", evaluate_f1(example['WHERE'], where_result['answer']))\n",
    "    \n",
    "    when_result = qa_model(question=best_when_question, context=context)\n",
    "    print(\"When:\", when_result['answer'])\n",
    "    print(\"F1 score:\", evaluate_f1(example['WHEN'], when_result['answer']))\n",
    "    \n",
    "    what_result = qa_model(question=best_event_question, context=context)\n",
    "    print(\"Event:\", what_result['answer'])\n",
    "    print(\"F1 score:\", evaluate_f1(example['EVENT'], what_result['answer']))\n",
    "    \n",
    "    print()"
   ]
  },
  {
   "cell_type": "markdown",
   "metadata": {},
   "source": [
    "### Fonction qui pour une question recupère les contextes avec les plus mauvaises scores de match"
   ]
  },
  {
   "cell_type": "code",
   "execution_count": 16,
   "metadata": {},
   "outputs": [],
   "source": [
    "# Afficher les contextes avec les mauvais scores\n",
    "\n",
    "def get_lowest_scores(data, question, key, n=5):\n",
    "    \"\"\"Retourne les n contextes avec les plus bas scores F1 pour une question donnée.\"\"\"\n",
    "    scores = []\n",
    "    for example in data:\n",
    "        context = example['text']\n",
    "        result = qa_model(question=question, context=context)\n",
    "        score = evaluate_f1(example[key], result['answer'])\n",
    "        scores.append((score, context, result['answer'], example[key]))\n",
    "    scores.sort(key=lambda x: x[0])\n",
    "    return scores[:n]\n",
    "\n"
   ]
  },
  {
   "cell_type": "markdown",
   "metadata": {},
   "source": [
    "### Afficher les contextes avec les plus bas scores pour chaque type de best_question"
   ]
  },
  {
   "cell_type": "markdown",
   "metadata": {},
   "source": [
    "    Contextes avec les plus bas scores pour la meilleur question WHEN"
   ]
  },
  {
   "cell_type": "code",
   "execution_count": null,
   "metadata": {},
   "outputs": [
    {
     "name": "stdout",
     "output_type": "stream",
     "text": [
      "Contextes avec les plus bas scores pour la question WHEN:\n",
      "Score: 0\n",
      "Context:  Employee #1  an independent contractor at a construction site  was trying to  stand on end a wood-framed wall. The wall was too heavy for one person and  when it bumped up against a ceiling pipe while being raised  he lost control  of it. The wall fell on Employee #1  who sustained a compressed disc in his  back.                                                                           \n",
      "Prediction: when it bumped up against a ceiling pipe while being raised\n",
      "Ground Truth: \n",
      "\n",
      "Score: 0\n",
      "Context:  Employee #1  a diver  became caught in a coffer dam and drowned.                \n",
      "Prediction: drowned\n",
      "Ground Truth: \n",
      "\n",
      "Score: 1.0\n",
      "Context:  At around 10:00 p.m. on November 10  2013  Employee #1  with Villager  Construction Inc.  with a coworker  were using an asphalt milling machine  (Wirtgen; Model Number: W2100) to grind out existing asphalt from an  interstate at a railroad bridge overpass. Employee # 1 was standing on the  ground  checking the depth of the cut into the asphalt  using a handheld  pendant attached to the machine. The pedant could stretch out from ten to 15  ft. This allowed Employee #1 to walk back and forth  checking the cut. The  operator was on the top of the milling machine  controlling the operation of  the machine and ensuring that the milling machine and dump truck (driven by a  second coworker  who worked for an independent trucking service) kept a safe  working distance. A different company  Protective Services Inc. (PSI)  was  responsible for the traffic control of the job site and had shut down the  inside lane of a three lane section of the interstate  so that work could be  conducted on that lane. The entire work zone was approximately two miles long   from start to finish. Employee #1 and the operator of the milling machine had  completed milling four sections (eight total passes) of the inside lane at the  bridge overpasses and were waiting for PSI to shut down the center lane. Dual  lane shut down of the inside and center lanes of the interstate was completed  around 9:30 p.m.  and Employee #1 and the milling machine operator milled two  sections (four total passes) of the center lane. Once both sides of the  overpass were milled out  approximately 200 ft on each side  Employee #1 and  the operator of the milling machine moved the milling machine down the  interstate  approximately1 000 ft  to a railroad overpass and began setting up  to mill the center lane sections. The truck driver backed his truck into  position and remained in the truck to move the truck slowly forward as milling  took place. Employee #1 was positioned between the milling machine and the  concrete median dividers  inside the coned off work zone. The lanes of travel  were approximately 12 ft wide  so the milling machine made two passes  since  it can only cut seven ft wide on each section to cover the entire lane.  Employee #1 was standing approximately three ft in the far inside lane on the  ground between milling machine and interior median wall inside of the approved  traffic control set up  and approximately midway up the machine and 17 ft from  the traffic control devices and flow of traffic. The milling machine was  approximately nine ft wide by 50 ft long  while operating. Employee #1 was  guarded by the machine from the flow of traffic. Approximately five to ten  minutes into the first pass  the milling machine operator noticed lights  hitting the reflectors on the inside wall and turned briefly to see a vehicle  coming. The operator thought it was the Project manager coming to check on the  status of the project. Then  the operator realized that the oncoming vehicle  was not equipped with a strobe  as required in work zones. The operator turned  and yelled for Employee # 1 to run for safety  as a Chevrolet Tahoe came down  the inside lane where Employee #1 was standing. The driver of the Tahoe  continued traveling in the far inside lane of the work zone  where Employee #1  was struck and thrown some 100 ft from where he was originally standing. The  vehicle was moving approximately 45 mph per hour. As he was transferred to a  hospital by emergency personnel  Employee #1 was treated for severe trauma   lacerations  fractures  and contusions to the body and head. Employee #1 was  pronounced dead at the hospital. The driver of the vehicle disregarded the  traffic control set up  all warning lights on the rear of the milling machine   and cone spacing of 100 ft. The construction work zone was set up correctly  with all signage  cone spacing  tapering  attenuators  and lighting; all of  the traffic control set up was approved by MUTCD for this type of tr \n",
      "Prediction: November 10  2013\n",
      "Ground Truth: November 10  2013\n",
      "\n",
      "Score: 1.0\n",
      "Context:  On August 27  2012  Employee #1  a 19 year-old male laborer with Stomper  Company Inc.  arrived at 2:00 .am. at a site in Menlo Park California to  demolish the interiors of the building. They scraped the interiors of the  building and collected debris as they finished up the job. On August 28  2012   at approximately 10:00 a.m  the job assignment was done and every employee was  to put away all the rubble and gather all equipment in order to pack up and  leave the site. When the job assignment was finished  it is typical for all  employees to gather everything and put it away into the garbage bin or in  their trailers and bins. At the time  four coworkers were outside in the  parking lot working near the Number 5 700 Panther. Two coworkers were going to  load the number 5 700 Panther and Employee #1 stated that he was going to load  the number 5 700 Panther on a trailer when their trailer returns from the trip  delivering their first load. This worker got on a Gradall machine to lift a  box bin and move it towards the number 5 700 Panther. The coworkers stated  that Employee #1  not the employee designated to drive the Panther  got on  this vehicle and started driving it. Employee #1 attempted to load a number  5 700 Panther on to a bin. This bin had a rubber lip with a four to five inch  incline ramp on its lip's edge. Employee #1 drove the Panther straight  backwards on the bin and did not go through this four to five inch ramp bump  on to the bin. Right after this unsuccessful attempt  Employee #1 drove it  backwards a second time except this time slightly slanted to his left side.  The left wheel touched the ramp first. On this second attempt  the number  5 700 Panther fell and flipped over. Employee #1 attempted to jump out of this  vehicle but was unable to get away as the Panther which weighed over 2 000  pounds fell on his left foot and pinned it. A coworker got the Gradall  machinery in order to remove the Panther that was on top of Employee #1's left  foot. Employee #1 suffered a serious fracture injury to his left leg and was  hospitalized over twenty-four hours. Employee #1 also stated that he is well  trained in driving other construction vehicle equipment by another foreman.     \n",
      "Prediction: August 27  2012\n",
      "Ground Truth: August 27  2012\n",
      "\n",
      "Score: 1.0\n",
      "Context:  On September 19  2012  Employee #1 had a seizure while utilizing a bathroom  facility. The employee has past history of seizures. A coworker found Employee  #1 unresponsive  and called 911 then performed CPR  on the employee until  paramedics arrived. Employee #1 was transported to St. James hospital in  Chicago Heights  where he was pronounced dead.                                  \n",
      "Prediction: September 19  2012\n",
      "Ground Truth: September 19  2012\n",
      "\n"
     ]
    }
   ],
   "source": [
    "\n",
    "print(\"Contextes avec les plus bas scores pour la question WHEN:\")\n",
    "for score, context, prediction, ground_truth in get_lowest_scores(data, best_when_question, 'WHEN'):\n",
    "    print(f\"Score: {score}\\nContext: {context}\\nPrediction: {prediction}\\nGround Truth: {ground_truth}\\n\")"
   ]
  },
  {
   "cell_type": "markdown",
   "metadata": {},
   "source": [
    "    Contextes avec les plus bas scores pour la meilleur question WHERE"
   ]
  },
  {
   "cell_type": "code",
   "execution_count": 17,
   "metadata": {},
   "outputs": [
    {
     "name": "stdout",
     "output_type": "stream",
     "text": [
      "Contextes avec les plus bas scores pour la question WHERE:\n",
      "Score: 0\n",
      "Context:  On August 24  2003  Jose Crespin Company  a stucco contractor  employed  Employee #1 and four coworkers. They were applying a stucco finish to the  exterior insulating finishing system on the Home Depot  Store Number 6555.  After completing the lumber canopy at the west end of the building  the  employees moved to the east end to finish the exterior insulating finishing  system on the spandrel panels at the garden center. While waiting for the  building surface to cool  the employees took a work break. During their break   the weather swiftly changed from clear and sunny to heavy rain and strong  winds. The employees then moved to the north side of the building at the  garden center where they hoped that the masonry piers and spandrel panels  would shelter them from the rain. The wind reached speeds in excess of 40 mph  and began collapsing the masonry piers (C.1-0.2 and C.1-0.3) where the  employees were standing. Realizing the imminent danger of the collapsing  piers  four employees fled from the area. Employee #1 became entangled in a  sheet of plastic  and was unable to break free when stub pier \"C.1-0.3\"  a  14-foot tall masonry pier  collapsed on him  crushing him. He was killed from  asphyxia.                                                                       \n",
      "Prediction: Home Depot  Store Number 6555\n",
      "Ground Truth: the garden center\n",
      "\n",
      "Score: 0\n",
      "Context:  At approximately 1:20 p.m. on November 9  2010  Employee #1 was working for  his employer  a construction contractor  and he was assigned to work a  trenching project. Employee #1 was installing a 2-inch water line and tracer  wire in the trench  which measured approximately 6.5 feet deep and 2 feet  wide. The trench was not protected  and the spoil pile was directly adjacent  to the trench edge. Employee #1 entered the trench  and the trench wall and  spoil pile collapsed  covering Employee #1. Employee #1 was trapped for  approximately 6 to 8 minutes  and was unconscious when rescuers pulled him  from the trench. Employee #1 was transported to a local hospital and he was  admitted to intensive care. Employee #1 died from his injuries 6 days later.    \n",
      "Prediction: November 9  2010\n",
      "Ground Truth: in the trench\n",
      "\n",
      "Score: 0\n",
      "Context:  At approximately 3:00 p.m. on June 17  2010  Employee #1  a plumber  and the  company general manager were laying approximately 475 ft of 4 in. PVC lateral  sewer line from a new residential dwelling to a municipal tie-in point. The  general manager was operating a Bobcat excavator  Model Number 331E   Identification Number 232711536  while Employee #1 occupied the 4 ft to 7 ft  deep trench checking the fall angle of the lateral and connecting gasket  joints with grease. Approximately 200 ft into the work  Employee #1 was  working in a 7 ft deep part of the trench near a solid wall 2.5 ft wide by 5  ft deep by 33 ft long when it sheared and collapsed. Employee #1 was killed.  Upon further investigation  it was learned that nine days prior to this event   the local electric municipal dug and backfilled an underground line from a  transformer to the residential dwelling with a trenching machine that made 4  in. to 6 in. wide cuts at a 4 ft to 5 ft depth. The trench wall ran adjacent  to the previously trenched electrical line by 2.5 ft. Due to the prior trench  work  there was inadequate sloping and backfill and an engineered tension  crack which increased the angle of internal friction and shear strength of the  wall.                                                                           \n",
      "Prediction: 7 ft deep part of the trench near a solid wall\n",
      "Ground Truth: a new residential dwelling to a municipal tie-in point\n",
      "\n",
      "Score: 0\n",
      "Context:  On August 18  2009  Employee #1 was inside a 140-ft long and 24-in. in  diameter pipe that ran through a tunnel underneath a highway. Employee #1 was  inside the pipe when a rain storm flooded the pipe  drowning Employee #1.       \n",
      "Prediction: inside a 140-ft long and 24-in. in  diameter pipe\n",
      "Ground Truth: tunnel underneath a highway\n",
      "\n",
      "Score: 0.30769230769230765\n",
      "Context:  At approximately 7:15 a.m. on August 9  2007  Employee #1 and a coworker were  stripping the interior form work of a 15 ft long by 8 ft deep by 3 ft wide by  8 in. thick  type G-2 drainage inlet structure. They were doing this while the  cement slurry backfill was being poured between the excavation wall and the  north wall of the inlet structure. Two trucks  each carrying 10 cubic yards of  the slurry  had already poured in their contents. When the third truck pour  was in progress  the north wall developed vertical cracks and pushed toward  the south wall of the inlet structure  crushing Employee #1 against the south  wall. He sustained numerous bodily injuries. The coworker was able to climb  out safely.                                                                     \n",
      "Prediction: between the excavation wall and the  north wall of the inlet structure\n",
      "Ground Truth: G-2 drainage inlet structure\n",
      "\n"
     ]
    }
   ],
   "source": [
    "print(\"Contextes avec les plus bas scores pour la question WHERE:\")\n",
    "for score, context, prediction, ground_truth in get_lowest_scores(data, best_where_question, 'WHERE'):\n",
    "    print(f\"Score: {score}\\nContext: {context}\\nPrediction: {prediction}\\nGround Truth: {ground_truth}\\n\")"
   ]
  },
  {
   "cell_type": "markdown",
   "metadata": {},
   "source": [
    "    Contextes avec les plus bas scores pour la meilleur question EVENT"
   ]
  },
  {
   "cell_type": "code",
   "execution_count": 18,
   "metadata": {
    "colab": {
     "base_uri": "https://localhost:8080/",
     "height": 494
    },
    "executionInfo": {
     "elapsed": 363,
     "status": "ok",
     "timestamp": 1729267214333,
     "user": {
      "displayName": "Luc Lamontagne",
      "userId": "08837927508284087562"
     },
     "user_tz": 240
    },
    "id": "ztVrC5C63wW2",
    "outputId": "243041a7-6a95-4643-94fa-2587ea3f7ac3"
   },
   "outputs": [
    {
     "name": "stdout",
     "output_type": "stream",
     "text": [
      "Contextes avec les plus bas scores pour la question EVENT:\n",
      "Score: 0\n",
      "Context:    At approximately 9:30 a.m. on November17  2010  Employee #1 of Midwest  Masonry  Inc.  was responsible for using the cement mixer. He was struck by  the cement mixer that tipped over in the process of mixing cement/concrete.  Employee #1 suffered bruises to his upper right thigh and right hip. There was  no visible damage to the cement mixer. In addition  there were no employees to  observe how the cement mixer fell on the employee.                              \n",
      "Prediction: Employee #1 suffered bruises to his upper right thigh and right hip\n",
      "Ground Truth: He was struck by  the cement mixer\n",
      "\n",
      "Score: 0\n",
      "Context:  On September 26  2013  Employee #1  a \"flagger\" with Iowa Erosion Control   Inc.  was turning a vertical sign from STOP to SLOW  based upon the location  of a pilot car running between the worker's location and a second coworker  \"flagger \" located approximately one mile away. A semi-truck came up over a  hill to the south of Employee #1. While traveling  its brakes locked up   leaving residue on the roadway. Then  the semi-truck swerved to miss a car at  Employee #1's sign area and struck Employee #1. Employee #1 was then dragged  and/or rolled approximately 40 ft to the north  where his body came to rest.  The semi-truck veered into the ditch area at the north edge of the street and  then proceeded north. The Initial investigation revealed that warning signs  were posted along the highway  cones and other markings were present  and  Employee #1was wearing a high visibility vest/clothing. Employee #1 was killed  in the incident.                                                                \n",
      "Prediction: the semi-truck swerved to miss a car\n",
      "Ground Truth: struck Employee #1\n",
      "\n",
      "Score: 0\n",
      "Context:  On August 24  2003  Jose Crespin Company  a stucco contractor  employed  Employee #1 and four coworkers. They were applying a stucco finish to the  exterior insulating finishing system on the Home Depot  Store Number 6555.  After completing the lumber canopy at the west end of the building  the  employees moved to the east end to finish the exterior insulating finishing  system on the spandrel panels at the garden center. While waiting for the  building surface to cool  the employees took a work break. During their break   the weather swiftly changed from clear and sunny to heavy rain and strong  winds. The employees then moved to the north side of the building at the  garden center where they hoped that the masonry piers and spandrel panels  would shelter them from the rain. The wind reached speeds in excess of 40 mph  and began collapsing the masonry piers (C.1-0.2 and C.1-0.3) where the  employees were standing. Realizing the imminent danger of the collapsing  piers  four employees fled from the area. Employee #1 became entangled in a  sheet of plastic  and was unable to break free when stub pier \"C.1-0.3\"  a  14-foot tall masonry pier  collapsed on him  crushing him. He was killed from  asphyxia.                                                                       \n",
      "Prediction: the weather swiftly changed from clear and sunny to heavy rain and strong  winds\n",
      "Ground Truth: 14-foot tall masonry pier  collapsed on him  crushing him\n",
      "\n",
      "Score: 0\n",
      "Context:  On October 24  2008  Employee #1 was working inside the freestanding carport  that was under construction  supported by vertical temporary bracing along the  outside perimeter. Employee #1's coworker was standing on the outside of the  carport with his hands resting on one of the temporary bracing. Employee #1  was operating the 20-ton bottle jack  which had an additional support on top  of the jack. Employee #1 was placing the additional support brace on top of  the bottle jack in the upward position. The support resting on the jack came  into contact with the underside wooden beams. The support in back of the jack  was removed to install trim under the area to replace the support. Employee #1  completed jacking and his coworker was about to remove the temporary vertical  wooden support  when the carport structure shifted off the temporary supports   trapping Employee #1 on the inside structure of the carport  breaking his  neck. Employee #1 died as a result of his injuries.                             \n",
      "Prediction: breaking his  neck\n",
      "Ground Truth: trapping Employee #1 on the inside structure of the carport\n",
      "\n",
      "Score: 0\n",
      "Context:  At approximately 7:15 a.m. on August 9  2007  Employee #1 and a coworker were  stripping the interior form work of a 15 ft long by 8 ft deep by 3 ft wide by  8 in. thick  type G-2 drainage inlet structure. They were doing this while the  cement slurry backfill was being poured between the excavation wall and the  north wall of the inlet structure. Two trucks  each carrying 10 cubic yards of  the slurry  had already poured in their contents. When the third truck pour  was in progress  the north wall developed vertical cracks and pushed toward  the south wall of the inlet structure  crushing Employee #1 against the south  wall. He sustained numerous bodily injuries. The coworker was able to climb  out safely.                                                                     \n",
      "Prediction: He sustained numerous bodily injuries\n",
      "Ground Truth: crushing Employee #1 against the south  wall\n",
      "\n"
     ]
    }
   ],
   "source": [
    "print(\"Contextes avec les plus bas scores pour la question EVENT:\")\n",
    "for score, context, prediction, ground_truth in get_lowest_scores(data, best_event_question, 'EVENT'):\n",
    "    print(f\"Score: {score}\\nContext: {context}\\nPrediction: {prediction}\\nGround Truth: {ground_truth}\\n\")"
   ]
  },
  {
   "cell_type": "markdown",
   "metadata": {},
   "source": [
    "# Analyse Quantitative\n",
    "##### Les scores moyens montrent que le modèle QA est assez performant pour extraire les informations de date et de lieu, mais il a plus de difficulté à extraire des descriptions d'événements. Cela peut être dû à la complexité et à la variabilité des descriptions d'événements par rapport aux dates et aux lieux, qui sont généralement plus structurés et prévisibles."
   ]
  },
  {
   "cell_type": "markdown",
   "metadata": {},
   "source": [
    "# Analyse Qualitative\n",
    "## Exemples avec les plus bas scores pour \"WHEN\"\n",
    "##### Les contextes avec les plus bas scores pour la question \"When did the incident occur?\" montrent que le modèle à de tres bonne capacité pour détecter les dates et les seuls cas ou il n'a pas pu detecter de date c'est qu'il n'y en avait pas.\n",
    "\n",
    "## Exemples avec les plus bas scores pour \"WHERE\"\n",
    "##### Les contextes avec les plus bas scores pour la question \"Where did the event occur?\" montrent que le modèle peut avoir des difficultés lorsque le lieu est mentionné de manière indirecte ou implicite.\n",
    "\n",
    "## Exemples avec les plus bas scores pour \"EVENT\"\n",
    "##### Les contextes avec les plus bas scores pour la question \"What happened during the incident?\" montrent que le modèle peut avoir des difficultés à résumer des événements complexes ou lorsque les descriptions sont longues et détaillées."
   ]
  },
  {
   "cell_type": "markdown",
   "metadata": {},
   "source": [
    "# Conclusion\n",
    "#### Le modèle QA basé sur BERT est performant pour extraire des informations structurées comme les dates et les lieux, mais il a plus de difficultés avec des descriptions d'événements plus complexes. Pour améliorer les performances, il pourrait être utile d'affiner le modèle sur un ensemble de données plus large et plus varié, ou d'utiliser des techniques de prétraitement pour simplifier les descriptions d'événements.\n",
    "\n"
   ]
  }
 ],
 "metadata": {
  "colab": {
   "provenance": [
    {
     "file_id": "1XcGOz7_AyFG1CYy-drVhTkMrpBQGBLpj",
     "timestamp": 1711422272555
    }
   ]
  },
  "kernelspec": {
   "display_name": "Python 3",
   "language": "python",
   "name": "python3"
  },
  "language_info": {
   "codemirror_mode": {
    "name": "ipython",
    "version": 3
   },
   "file_extension": ".py",
   "mimetype": "text/x-python",
   "name": "python",
   "nbconvert_exporter": "python",
   "pygments_lexer": "ipython3",
   "version": "3.11.6"
  }
 },
 "nbformat": 4,
 "nbformat_minor": 1
}
